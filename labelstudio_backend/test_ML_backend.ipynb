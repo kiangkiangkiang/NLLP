{
 "cells": [
  {
   "cell_type": "markdown",
   "metadata": {},
   "source": [
    "- 參考: https://openbayes.com/console/open-tutorials/containers/JpnlNFf5aT7"
   ]
  },
  {
   "cell_type": "code",
   "execution_count": null,
   "metadata": {},
   "outputs": [],
   "source": [
    "import numpy as np\n",
    "import os\n",
    "import json\n",
    "from paddlenlp import Taskflow\n",
    "from label_studio_ml import LabelStudioMLBase"
   ]
  },
  {
   "cell_type": "markdown",
   "metadata": {},
   "source": [
    "Create Class for Label Studio Backend\n",
    "\n",
    "兩個必須的函數：\n",
    "1. predict()：將input預測成label studio要的json格式\n",
    "2. fit()：\n",
    "3. self.parsed_label_config ()"
   ]
  },
  {
   "cell_type": "code",
   "execution_count": 5,
   "metadata": {},
   "outputs": [],
   "source": [
    "def initial_parsed_label_config():\n",
    "    result = {'label': {\n",
    "              'type': 'Labels',\n",
    "              'to_name': ['text'],\n",
    "              'inputs': [{\n",
    "                  'type': 'Text',\n",
    "                  'value': 'text'\n",
    "              }],\n",
    "              'labels': ['地名', '人名', \"時間\"],\n",
    "              'labels_attrs': {\n",
    "                  '地名': {\n",
    "                      'value': '地名',\n",
    "                      'background': '#FFA39E'\n",
    "                  },\n",
    "                  '人名': {\n",
    "                      'value': '人名',\n",
    "                      'background': '#D4380D'\n",
    "                  },\n",
    "                  '時間': {\n",
    "                      'value': '時間',\n",
    "                      'background': '#AD8B00'\n",
    "                  }\n",
    "              }\n",
    "              }\n",
    "              }\n",
    "    return result\n"
   ]
  },
  {
   "cell_type": "code",
   "execution_count": 7,
   "metadata": {},
   "outputs": [],
   "source": [
    "class MyUIEPredictModel(LabelStudioMLBase):\n",
    "    def __init__(self, **kwargs) -> None:\n",
    "        super(MyUIEPredictModel, self).__init__(**kwargs)\n",
    "        self.parsed_label_config = initial_parsed_label_config()\n",
    "        self.from_name, self.info = list(self.parsed_label_config.items())[0]\n",
    "        #print(self.from_name)\n",
    "        #print(self.info)\n",
    "        self.to_name = self.info['to_name'][0]\n",
    "        self.value = self.info['inputs'][0]['value']\n",
    "        self.labels = list(self.info['labels'])\n",
    "        print(self.to_name)\n",
    "        print(self.value)\n",
    "        print(self.labels)\n",
    "\n",
    "        #task_paht='./checkpoint/model_best'\n",
    "        self.model = Taskflow(\"information_extraction\", schema=self.labels)\n",
    "        \n",
    "    def predict(self, tasks, **kwargs):\n",
    "        from_name = self.from_name\n",
    "        to_name = self.to_name\n",
    "        model = self.model\n",
    "        predictions = []\n",
    "        for task in tasks:\n",
    "            print(\"Predict task:\", task)\n",
    "            text = task['data'][self.value]\n",
    "            uie = model(text)[0]\n",
    "\n",
    "            result = []\n",
    "            scores = []\n",
    "            for key in uie:\n",
    "                for item in uie[key]:\n",
    "                    result.append({\n",
    "                        'from_name': from_name,\n",
    "                        'to_name': to_name,\n",
    "                        'type': 'labels',\n",
    "                        'value':{\n",
    "                            'start': item['start'],\n",
    "                            'end': item['end'],\n",
    "                            'score': item['probability'],\n",
    "                            'text': item['text'],\n",
    "                            'labels': [key]\n",
    "                        }\n",
    "                    })\n",
    "                    scores.append(item['probability'])\n",
    "            result = sorted(result, key=lambda x: x['value']['start'])\n",
    "            mean_score = np.mean(scores) if len(scores) else 0\n",
    "            predictions.append({\n",
    "                'result': result,\n",
    "                'score': float(mean_score),\n",
    "                'model_version': 'uie_new'\n",
    "            })\n",
    "        return predictions\n",
    "\n",
    "    def fit(self, annotations, workdir=None, **kwargs):\n",
    "        print(\"annotations: \", annotations)\n",
    "        return \n",
    "        \n"
   ]
  },
  {
   "cell_type": "code",
   "execution_count": 8,
   "metadata": {},
   "outputs": [
    {
     "name": "stdout",
     "output_type": "stream",
     "text": [
      "text\n",
      "text\n",
      "['地名', '人名', '時間']\n"
     ]
    }
   ],
   "source": [
    "a = MyUIEPredictModel()"
   ]
  }
 ],
 "metadata": {
  "kernelspec": {
   "display_name": "Python 3.9.6 ('env': venv)",
   "language": "python",
   "name": "python3"
  },
  "language_info": {
   "codemirror_mode": {
    "name": "ipython",
    "version": 3
   },
   "file_extension": ".py",
   "mimetype": "text/x-python",
   "name": "python",
   "nbconvert_exporter": "python",
   "pygments_lexer": "ipython3",
   "version": "3.9.6"
  },
  "orig_nbformat": 4,
  "vscode": {
   "interpreter": {
    "hash": "5d58828fd0c5f7af717daf8982e0a9ccf3c174b5c7bbe63b6216d1f875908829"
   }
  }
 },
 "nbformat": 4,
 "nbformat_minor": 2
}
