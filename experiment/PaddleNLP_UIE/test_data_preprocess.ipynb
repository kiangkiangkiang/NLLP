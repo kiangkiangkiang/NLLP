{
 "cells": [
  {
   "cell_type": "code",
   "execution_count": 21,
   "metadata": {},
   "outputs": [],
   "source": [
    "!python3 labelstudio2doccano.py --labelstudio_file test_label_studio.json"
   ]
  },
  {
   "cell_type": "code",
   "execution_count": 24,
   "metadata": {},
   "outputs": [
    {
     "name": "stdout",
     "output_type": "stream",
     "text": [
      "/Users/cfh00892302/Desktop/myWorkspace/env/lib/python3.9/site-packages/_distutils_hack/__init__.py:33: UserWarning: Setuptools is replacing distutils.\n",
      "  warnings.warn(\"Setuptools is replacing distutils.\")\n",
      "\u001b[32m[2023-03-03 15:34:52,640] [    INFO]\u001b[0m - Converting doccano data...\u001b[0m\n",
      "100%|███████████████████████████████████████████| 1/1 [00:00<00:00, 4443.12it/s]\n",
      "\u001b[32m[2023-03-03 15:34:52,653] [    INFO]\u001b[0m - Adding negative samples for first stage prompt...\u001b[0m\n",
      "100%|██████████████████████████████████████████| 1/1 [00:00<00:00, 18893.26it/s]\n",
      "\u001b[32m[2023-03-03 15:34:52,654] [    INFO]\u001b[0m - Adding negative samples for second stage prompt...\u001b[0m\n",
      "100%|███████████████████████████████████████████| 1/1 [00:00<00:00, 7626.01it/s]\n",
      "\u001b[32m[2023-03-03 15:34:52,655] [    INFO]\u001b[0m - Converting doccano data...\u001b[0m\n",
      "0it [00:00, ?it/s]\n",
      "\u001b[32m[2023-03-03 15:34:52,655] [    INFO]\u001b[0m - Adding negative samples for first stage prompt...\u001b[0m\n",
      "0it [00:00, ?it/s]\n",
      "\u001b[32m[2023-03-03 15:34:52,656] [    INFO]\u001b[0m - Converting doccano data...\u001b[0m\n",
      "0it [00:00, ?it/s]\n",
      "\u001b[32m[2023-03-03 15:34:52,656] [    INFO]\u001b[0m - Adding negative samples for first stage prompt...\u001b[0m\n",
      "0it [00:00, ?it/s]\n",
      "\u001b[32m[2023-03-03 15:34:52,660] [    INFO]\u001b[0m - Save 9 examples to ./train.txt.\u001b[0m\n",
      "\u001b[32m[2023-03-03 15:34:52,660] [    INFO]\u001b[0m - Save 0 examples to ./dev.txt.\u001b[0m\n",
      "\u001b[32m[2023-03-03 15:34:52,661] [    INFO]\u001b[0m - Save 0 examples to ./test.txt.\u001b[0m\n",
      "\u001b[32m[2023-03-03 15:34:52,661] [    INFO]\u001b[0m - Finished! It takes 0.02 seconds\u001b[0m\n"
     ]
    }
   ],
   "source": [
    "!python3 doccano.py \\\n",
    "    --doccano_file doccano_ext.jsonl \\\n",
    "    --task_type ext \\\n",
    "    --save_dir .\\\n",
    "    --splits 1 0 0 \\\n",
    "    --schema_lang ch "
   ]
  }
 ],
 "metadata": {
  "kernelspec": {
   "display_name": "Python 3.9.6 ('env': venv)",
   "language": "python",
   "name": "python3"
  },
  "language_info": {
   "codemirror_mode": {
    "name": "ipython",
    "version": 3
   },
   "file_extension": ".py",
   "mimetype": "text/x-python",
   "name": "python",
   "nbconvert_exporter": "python",
   "pygments_lexer": "ipython3",
   "version": "3.9.6"
  },
  "orig_nbformat": 4,
  "vscode": {
   "interpreter": {
    "hash": "5d58828fd0c5f7af717daf8982e0a9ccf3c174b5c7bbe63b6216d1f875908829"
   }
  }
 },
 "nbformat": 4,
 "nbformat_minor": 2
}
