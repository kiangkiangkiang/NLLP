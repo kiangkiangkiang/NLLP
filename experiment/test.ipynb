{
 "cells": [
  {
   "cell_type": "code",
   "execution_count": null,
   "metadata": {},
   "outputs": [],
   "source": []
  },
  {
   "cell_type": "code",
   "execution_count": null,
   "metadata": {},
   "outputs": [],
   "source": [
    "import spacy\n",
    "from spacy.lang.zh.examples import sentences \n",
    "\n",
    "nlp = spacy.load(\"zh_core_web_trf\")\n",
    "doc = nlp(sentences[0])\n",
    "print(doc.text)\n",
    "for token in doc:\n",
    "    print(token.text, token.pos_, token.dep_)"
   ]
  },
  {
   "cell_type": "code",
   "execution_count": 3,
   "metadata": {},
   "outputs": [],
   "source": [
    "a = {\"predicate\": [\"empty\", \"empty\", \"注册资本\", \"作者\", \"所属专辑\", \"歌手\", \"邮政编码\", \"主演\", \"上映时间\", \"上映时间\", \"饰演\", \"饰演\", \"国籍\", \"成立日期\", \"毕业院校\", \"作曲\", \"作词\", \"编剧\", \"导演\", \"面积\", \"占地面积\", \"总部地点\", \"制片人\", \"嘉宾\", \"简称\", \"主持人\", \"获奖\", \"获奖\", \"获奖\", \"获奖\", \"海拔\", \"出品公司\", \"配音\", \"配音\", \"所在城市\", \"号\", \"主角\", \"创始人\", \"父亲\", \"祖籍\", \"母亲\", \"朝代\", \"董事长\", \"人口数量\", \"妻子\", \"丈夫\", \"票房\", \"票房\", \"专业代码\", \"气候\", \"修业年限\", \"改编自\", \"官方语言\", \"首都\", \"主题曲\", \"校长\", \"代言人\"], \"subject_type\": [\"empty\", \"empty\", \"企业\", \"图书作品\", \"歌曲\", \"歌曲\", \"行政区\", \"影视作品\", \"影视作品\", \"影视作品\", \"娱乐人物\", \"娱乐人物\", \"人物\", \"机构\", \"人物\", \"歌曲\", \"歌曲\", \"影视作品\", \"影视作品\", \"行政区\", \"机构\", \"企业\", \"影视作品\", \"电视综艺\", \"机构\", \"电视综艺\", \"娱乐人物\", \"娱乐人物\", \"娱乐人物\", \"娱乐人物\", \"地点\", \"影视作品\", \"娱乐人物\", \"娱乐人物\", \"景点\", \"历史人物\", \"文学作品\", \"企业\", \"人物\", \"人物\", \"人物\", \"历史人物\", \"企业\", \"行政区\", \"人物\", \"人物\", \"影视作品\", \"影视作品\", \"学科专业\", \"行政区\", \"学科专业\", \"影视作品\", \"国家\", \"国家\", \"影视作品\", \"学校\", \"企业/品牌\"], \"object_type\": [\"empty\", \"empty\", \"Number\", \"人物\", \"音乐专辑\", \"人物\", \"Text\", \"人物\", \"Date_@value\", \"地点_inArea\", \"人物_@value\", \"影视作品_inWork\", \"国家\", \"Date\", \"学校\", \"人物\", \"人物\", \"人物\", \"人物\", \"Number\", \"Number\", \"地点\", \"人物\", \"人物\", \"Text\", \"人物\", \"奖项_@value\", \"作品_inWork\", \"Date_onDate\", \"Number_period\", \"Number\", \"企业\", \"人物_@value\", \"影视作品_inWork\", \"城市\", \"Text\", \"人物\", \"人物\", \"人物\", \"地点\", \"人物\", \"Text\", \"人物\", \"Number\", \"人物\", \"人物\", \"Number_@value\", \"地点_inArea\", \"Text\", \"气候\", \"Number\", \"作品\", \"语言\", \"城市\", \"歌曲\", \"人物\", \"人物\"]}"
   ]
  },
  {
   "cell_type": "code",
   "execution_count": 12,
   "metadata": {},
   "outputs": [
    {
     "data": {
      "text/plain": [
       "['empty',\n",
       " 'empty',\n",
       " 'Number',\n",
       " '人物',\n",
       " '音乐专辑',\n",
       " '人物',\n",
       " 'Text',\n",
       " '人物',\n",
       " 'Date_@value',\n",
       " '地点_inArea',\n",
       " '人物_@value',\n",
       " '影视作品_inWork',\n",
       " '国家',\n",
       " 'Date',\n",
       " '学校',\n",
       " '人物',\n",
       " '人物',\n",
       " '人物',\n",
       " '人物',\n",
       " 'Number',\n",
       " 'Number',\n",
       " '地点',\n",
       " '人物',\n",
       " '人物',\n",
       " 'Text',\n",
       " '人物',\n",
       " '奖项_@value',\n",
       " '作品_inWork',\n",
       " 'Date_onDate',\n",
       " 'Number_period',\n",
       " 'Number',\n",
       " '企业',\n",
       " '人物_@value',\n",
       " '影视作品_inWork',\n",
       " '城市',\n",
       " 'Text',\n",
       " '人物',\n",
       " '人物',\n",
       " '人物',\n",
       " '地点',\n",
       " '人物',\n",
       " 'Text',\n",
       " '人物',\n",
       " 'Number',\n",
       " '人物',\n",
       " '人物',\n",
       " 'Number_@value',\n",
       " '地点_inArea',\n",
       " 'Text',\n",
       " '气候',\n",
       " 'Number',\n",
       " '作品',\n",
       " '语言',\n",
       " '城市',\n",
       " '歌曲',\n",
       " '人物',\n",
       " '人物']"
      ]
     },
     "execution_count": 12,
     "metadata": {},
     "output_type": "execute_result"
    }
   ],
   "source": [
    "a[\"object_type\"]"
   ]
  }
 ],
 "metadata": {
  "kernelspec": {
   "display_name": "Python 3.9.6 ('env': venv)",
   "language": "python",
   "name": "python3"
  },
  "language_info": {
   "codemirror_mode": {
    "name": "ipython",
    "version": 3
   },
   "file_extension": ".py",
   "mimetype": "text/x-python",
   "name": "python",
   "nbconvert_exporter": "python",
   "pygments_lexer": "ipython3",
   "version": "3.9.6"
  },
  "orig_nbformat": 4,
  "vscode": {
   "interpreter": {
    "hash": "5d58828fd0c5f7af717daf8982e0a9ccf3c174b5c7bbe63b6216d1f875908829"
   }
  }
 },
 "nbformat": 4,
 "nbformat_minor": 2
}
