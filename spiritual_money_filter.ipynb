{
 "cells": [
  {
   "cell_type": "markdown",
   "metadata": {},
   "source": [
    "目標：鎖定一個Folder，找到所有民事folder，接著以\"訴\"or\"重訴\"做篩選找到跟賠償相關的json file，並將有包含“精神慰撫金”的文件丟到目標地點。"
   ]
  },
  {
   "cell_type": "code",
   "execution_count": 5,
   "metadata": {},
   "outputs": [],
   "source": [
    "import os\n",
    "import pandas as pd\n",
    "import numpy as np\n",
    "folder_name = '201609'\n",
    "source_files = '/Users/cfh00892302/Downloads/' + folder_name + '/'\n",
    "destination_folder = '/Users/cfh00892302/Desktop/myWorkspace/NLLP/data/spiritual_money file/'\n",
    "folder_filter = \"民事\" \n",
    "json_filter = {'JFULL': [\"慰撫金\", \"車禍\"]} #or {'JFULL': ['精神慰撫金', '車禍‘], 'JYEAR': ['105']}\n"
   ]
  },
  {
   "cell_type": "code",
   "execution_count": 6,
   "metadata": {},
   "outputs": [],
   "source": [
    "all_folder = [i for i in os.listdir(source_files) if i.find(folder_filter) != -1]"
   ]
  },
  {
   "cell_type": "code",
   "execution_count": 7,
   "metadata": {},
   "outputs": [],
   "source": [
    "def filter_spiritual_file(\n",
    "    source_files=source_files,\n",
    "    destination_folder=destination_folder,\n",
    "    all_folder=all_folder,\n",
    "    json_filter=json_filter,\n",
    "    save_file=True,\n",
    "    return_remain_json=True,\n",
    "    save_file_name=folder_name\n",
    "    ):\n",
    "\n",
    "    print(\"Start...\")\n",
    "    remain_file_counter = 0\n",
    "    remain_json = []\n",
    "    for folder_file in all_folder:\n",
    "        print(\"Now: Folder in \", folder_file)\n",
    "        all_json_file = os.listdir(source_files + folder_file)\n",
    "        for json_file in all_json_file:\n",
    "            myjson = source_files + folder_file + '/' + json_file\n",
    "            context = pd.read_json(myjson, orient='index')\n",
    "\n",
    "            #start using json_filter to filter file\n",
    "            remain_this_json = True\n",
    "            for filter_key, filter_value in json_filter.items():\n",
    "                for value in filter_value:\n",
    "                    if value not in context[0][filter_key]:\n",
    "                        remain_this_json = False\n",
    "                        break\n",
    "                if not remain_this_json:\n",
    "                    break\n",
    "                \n",
    "            if remain_this_json:\n",
    "                remain_file_counter += 1\n",
    "                if remain_file_counter % 10 == 0:\n",
    "                    print(\"Accumulate file: \", remain_file_counter)\n",
    "\n",
    "                if return_remain_json:\n",
    "                    remain_json.append(context)\n",
    "\n",
    "    print(\"Total file: \", remain_file_counter)    \n",
    "    print(\"Done.\")\n",
    "    if save_file:\n",
    "        np.save(destination_folder + \"spiritual_\" + save_file_name, remain_json)\n",
    "    if return_remain_json:\n",
    "        return remain_json\n",
    "                "
   ]
  },
  {
   "cell_type": "code",
   "execution_count": 8,
   "metadata": {},
   "outputs": [
    {
     "name": "stdout",
     "output_type": "stream",
     "text": [
      "Start...\n",
      "Now: Folder in  臺東簡易庭民事\n",
      "Now: Folder in  臺南簡易庭民事\n",
      "Now: Folder in  新市簡易庭民事\n",
      "Now: Folder in  鳳山簡易庭民事\n",
      "Now: Folder in  最高法院民事\n",
      "Now: Folder in  臺灣新北地方法院民事\n",
      "Now: Folder in  臺灣臺北地方法院民事\n",
      "Now: Folder in  臺灣臺南地方法院民事\n",
      "Now: Folder in  臺灣苗栗地方法院民事\n",
      "Now: Folder in  臺灣桃園地方法院民事\n",
      "Accumulate file:  10\n",
      "Now: Folder in  花蓮簡易庭(含玉里)民事\n",
      "Now: Folder in  臺灣高等法院花蓮分院民事\n",
      "Now: Folder in  臺灣雲林地方法院民事\n",
      "Accumulate file:  20\n",
      "Now: Folder in  臺灣南投地方法院民事\n",
      "Now: Folder in  臺灣高雄地方法院民事\n",
      "Accumulate file:  30\n",
      "Now: Folder in  宜蘭簡易庭民事\n",
      "Now: Folder in  斗六簡易庭民事\n",
      "Now: Folder in  沙鹿簡易庭民事\n",
      "Now: Folder in  福建連江地方法院民事\n",
      "Now: Folder in  柳營簡易庭民事\n",
      "Now: Folder in  臺中簡易庭民事\n",
      "Accumulate file:  40\n",
      "Now: Folder in  屏東簡易庭民事\n",
      "Now: Folder in  豐原簡易庭民事\n",
      "Now: Folder in  馬公簡易庭民事\n",
      "Now: Folder in  高雄簡易庭民事\n",
      "Now: Folder in  臺灣宜蘭地方法院民事\n",
      "Now: Folder in  智慧財產及商業法院民事\n",
      "Now: Folder in  中壢簡易庭民事\n",
      "Now: Folder in  臺灣彰化地方法院民事\n",
      "Now: Folder in  金城簡易庭民事\n",
      "Now: Folder in  潮州簡易庭民事\n",
      "Now: Folder in  三重簡易庭民事\n",
      "Accumulate file:  50\n",
      "Now: Folder in  臺灣高等法院民事\n",
      "Now: Folder in  臺灣臺東地方法院民事\n",
      "Accumulate file:  60\n",
      "Now: Folder in  北港簡易庭民事\n",
      "Now: Folder in  臺灣澎湖地方法院民事\n",
      "Now: Folder in  臺灣高等法院高雄分院民事\n",
      "Now: Folder in  南投簡易庭(含埔里)民事\n",
      "Now: Folder in  橋頭簡易庭民事\n",
      "Now: Folder in  彰化簡易庭民事\n",
      "Now: Folder in  臺灣臺中地方法院民事\n",
      "Accumulate file:  70\n",
      "Now: Folder in  士林簡易庭民事\n",
      "Now: Folder in  臺灣士林地方法院民事\n",
      "Accumulate file:  80\n",
      "Now: Folder in  北斗簡易庭民事\n",
      "Now: Folder in  岡山簡易庭民事\n",
      "Now: Folder in  新店簡易庭民事\n",
      "Now: Folder in  員林簡易庭民事\n",
      "Now: Folder in  旗山簡易庭民事\n",
      "Now: Folder in  臺灣橋頭地方法院民事\n",
      "Accumulate file:  90\n",
      "Now: Folder in  臺灣屏東地方法院民事\n",
      "Now: Folder in  嘉義簡易庭(含朴子)民事\n",
      "Now: Folder in  臺灣高等法院臺南分院民事\n",
      "Accumulate file:  100\n",
      "Now: Folder in  臺灣高等法院臺中分院民事\n",
      "Accumulate file:  110\n",
      "Now: Folder in  桃園簡易庭民事\n",
      "Now: Folder in  臺灣基隆地方法院民事\n",
      "Now: Folder in  臺灣嘉義地方法院民事\n",
      "Accumulate file:  120\n",
      "Now: Folder in  福建金門地方法院民事\n",
      "Now: Folder in  福建高等法院金門分院民事\n",
      "Now: Folder in  臺灣高雄少年及家事法院民事\n",
      "Now: Folder in  板橋簡易庭民事\n",
      "Now: Folder in  臺北簡易庭民事\n",
      "Now: Folder in  羅東簡易庭民事\n",
      "Now: Folder in  臺灣花蓮地方法院民事\n",
      "Accumulate file:  130\n",
      "Now: Folder in  虎尾簡易庭民事\n",
      "Now: Folder in  竹北簡易庭(含竹東)民事\n",
      "Now: Folder in  內湖簡易庭民事\n",
      "Now: Folder in  臺灣新竹地方法院民事\n",
      "Total file:  137\n",
      "Done.\n"
     ]
    }
   ],
   "source": [
    "filter_spiritual_file(save_file=True, return_remain_json=False)"
   ]
  },
  {
   "cell_type": "code",
   "execution_count": 50,
   "metadata": {},
   "outputs": [
    {
     "data": {
      "text/plain": [
       "'臺灣臺東地方法院民事簡易判決\\u3000\\u3000\\u3000\\u3000105年度東簡字第112號\\r\\n原\\u3000\\u3000\\u3000告\\u3000黃淑貞\\u3000\\r\\n訴訟代理人\\u3000李泰宏律師\\r\\n被\\u3000\\u3000\\u3000告\\u3000楊婕\\u3000\\u3000\\r\\n訴訟代理人\\u3000王丕衍律師\\r\\n上列當事人間請求損害賠償事件，原告提起刑事附帶民事訴訟（\\r\\n104年度原附民字第37號），經刑事庭裁定移送前來，本院於民\\r\\n國105年8月23日言詞辯論終結，判決如下：\\r\\n    主  文\\r\\n被告應給付原告新臺幣貳萬元，及自民國一百零四年十二月二日\\r\\n起至清償日止，按週年利率百分之五計算之利息。\\r\\n原告其餘之訴駁回。\\r\\n本判決原告勝訴部分得假執行。但被告以新臺幣貳萬元為原告預\\r\\n供擔保，得免為假執行。\\r\\n    事實及理由\\r\\n一、原告起訴主張：被告與訴外人即其夫高榮清於民國104年6月\\r\\n    20日凌晨1時許，在臺東縣○○鄉○○村○○○000號7-11便\\r\\n    利商店前，於原告（所涉傷害罪嫌另經臺灣臺東地方法院檢\\r\\n    察署檢察官為不起訴處分確定）開設之鹽酥雞店內飲酒，詎\\r\\n    被告酒後指訴高榮清與原告有染，並徒手毆打高榮清，原告\\r\\n    見狀前往勸阻，並要求被告離開，被告遂基於傷害之犯意，\\r\\n    先推倒原告，又於原告起身之際，以腳踢原告之膝部及腿部\\r\\n    ，致其受有膝及腿之拉傷及扭傷、膝挫傷等傷害（下稱系爭\\r\\n    傷害）。被告上開之傷害犯行，業經本院以104 年度原易字\\r\\n    第124號刑事判決判處有期徒刑3月，嗣被告不服提出上訴，\\r\\n    復經臺灣高等法院花蓮分院以105 年度原上易字第21號判決\\r\\n    駁回上訴確定。爰依侵權行為損害賠償之法律關係，訴請被\\r\\n    告給付醫療費新臺幣（下同）1 萬元、營業損失20萬元及精\\r\\n    神慰撫金10萬元，共計31萬元之損害等語。並聲明：被告應\\r\\n    給付原告31萬元，及自起訴狀繕本送達翌日起至清償日止，\\r\\n    按週年利率5%計算之利息。\\r\\n二、被告則以：被告之行為雖判決有罪確定，惟被告仍否認之；\\r\\n    原告雖稱受有營業損失，惟其尚得僱用員工營業，且系爭傷\\r\\n    害非癱瘓無法行動，要無停業之理，另原告亦無法證明停業\\r\\n    與被告之行為有何相當因果關係，而營業損失金額亦屬片面\\r\\n    主張，並無證據可證為真，此外，精神慰撫金之請求金額顯\\r\\n    屬過高，是原告請求並無理由等語，資為抗辯。並聲明：原\\r\\n    告之訴駁回。 \\r\\n三、原告主張與被告於上開時、地遭被告毆打，致原告受有系爭\\r\\n    傷害，且被告之前揭行為，亦經本院以104年度原易字第124\\r\\n    號刑事判決判處有期徒刑3 月，嗣被告不服提出上訴，復經\\r\\n    臺灣高等法院花蓮分院以105 年度原上易字第21號判決駁回\\r\\n    上訴確定等情，業經本院依職權調閱前開卷宗，核閱無訛，\\r\\n    是依本院調查之結果，原告主張上開被告之傷害事實，堪信\\r\\n    為真實。\\r\\n四、按因故意或過失，不法侵害他人之權利者，負損害賠償責任\\r\\n    。茲計算原告得請求被告賠償損害如下：\\r\\n（一）醫藥費及營業損失部分：\\r\\n      按不法侵害他人之身體或健康者，對於被害人因此喪失或\\r\\n      減少勞動能力，應負損害賠償責任，民法第193 條定有明\\r\\n      文。查原告雖主張其因系爭傷害支出醫療費1 萬元，並因\\r\\n      此無法工作而受有營業損失20萬元等情，並提出臺東縣東\\r\\n      河鄉東河村辦公處出具之證明書為證（見本院卷第79 頁）\\r\\n      ，惟上開證明書至多僅能證明原告於104年6月20日至同年\\r\\n      7 月20日無法營業之事實，無法據此認定原告因系爭傷害\\r\\n      無法工作及其收入因此受損金額，而原告復未能舉出其他\\r\\n      證據以證明其確因系爭傷害而受有收入損失，是原告此部\\r\\n      分之請求，即屬無據，不應准許。又原告就其因系爭傷害\\r\\n      支出醫藥費用1 萬元之事實亦未提出任何證據供本院審酌\\r\\n      ，是原告此部分之請求亦無理由。\\r\\n（二）精神慰撫金部分：按不法侵害他人之身體、健康、名譽、\\r\\n      自由、信用、隱私、貞操，或不法侵害其他人格法益而情\\r\\n      節重大者，被害人雖非財產上之損害，亦得請求賠償相當\\r\\n      之金額，民法第195條第1項前段定有明文。次按關於非財\\r\\n      產上之損害，加害人雖亦負賠償責任，但以相當之金額為\\r\\n      限，所謂相當，自應以實際加害情形與其影響是否重大，\\r\\n      及被害者之身分地位與加害人經濟狀況等關係定之（最高\\r\\n      法院47年台上字第1221號判例意旨參見）。又非財產上之\\r\\n      損害賠償須以人格權遭遇侵害，使精神上受有痛苦為必要\\r\\n      ，其核給之標準固與財產上損害之計算不同，然非不可斟\\r\\n      酌雙方身分資力與加害程度，及其他各種情形核定相當之\\r\\n      數額（最高法院51 年台上字第223號判例意旨參見）。準\\r\\n      此，非財產上之損害賠償，應以實際加害之情形、被害人\\r\\n      所受精神上痛苦之程度、賠償權利人之身分地位、經濟能\\r\\n      力，並斟酌賠償義務人之經濟狀況、可歸責之程度等定之\\r\\n      。經查，原告於上開時、地遭被告打傷，因而受有系爭傷\\r\\n      害，其身體及精神受有相當之痛苦，自不待言。而原告學\\r\\n      歷為高職畢業，103年度所得總額及財產總額均為0元；被\\r\\n      告為國中肄業，103年度所得總額800元，財產總額13萬3,\\r\\n      000 元，為兩造所自承並有兩造之稅務電子閘門資料查詢\\r\\n      表在卷可參（見本院卷第29至33頁、第76頁）。本院審酌\\r\\n      原告所受傷勢及兩造身分、地位、經濟狀況等一切情狀，\\r\\n      認原告請求給付精神慰撫金10萬元，尚屬過高，應核減為\\r\\n      2萬元為適當，逾此範圍之請求，即屬無據，應予駁回。\\r\\n（三）綜上，原告得請求被告賠償之金額為2萬元。\\r\\n五、再按給付無確定期限者，債務人於債權人得請求給付時，經\\r\\n    其催告而未為給付，自受催告時起，負遲延責任；其經債權\\r\\n    人起訴而送達訴狀，或依督促程序送達支付命令，或為其他\\r\\n    相類之行為者，與催告有同一之效力；遲延之債務，以支付\\r\\n    金錢為標的者，債權人得請求依法定利率計算之遲延利息；\\r\\n    應付利息之債務，其利率未經約定，亦無法律可據者，週年\\r\\n    利率為5％，民法第229條第2項、第233條第1項前段、第203\\r\\n    條分別定有明文。經查，本件起訴狀繕本於104年12月1日送\\r\\n    達於被告，有送達證書1紙附卷可稽（見104年度原附民字第\\r\\n    37號卷第5頁），是本件原告請求利息之起算日為同年12月2\\r\\n    日，應堪認定。\\r\\n六、綜上，原告依侵權行為損害賠償之法律關係，訴請被告給付\\r\\n    如主文第一項所示，為有理由，應予准許。逾此範圍之請求\\r\\n    ，為無理由，應予駁回。\\r\\n七、又本件係依民事訴訟法第427條第1項適用簡易訴訟程序所為\\r\\n    被告部分敗訴之判決，依同法第389 條第1項第3款之規定，\\r\\n    就原告勝訴部分，應依職權宣告假執行，並依同法第436 條\\r\\n    第2項準用同法第392 條第2項規定，依職權宣告被告預供擔\\r\\n    保得免為假執行。\\r\\n八、本件原告係於刑事訴訟程序提起民事訴訟，經本院刑事庭裁\\r\\n    定移送前來，依刑事訴訟法第504條第2項規定，無庸繳納裁\\r\\n    判費，且本件訴訟繫屬期間亦未增生其他訴訟費用事項，故\\r\\n    無訴訟費用負擔問題，併予敘明。\\r\\n中    華    民    國   105    年    9     月    13    日\\r\\n                  臺東簡易庭  法  官  朱家寬\\r\\n以上正本係照原本作成。\\r\\n如對本判決不服，須於判決送達後20日之不變期間內，向本庭提\\r\\n出上訴狀。如委任律師提起上訴者，應一併繳納上訴審裁判費。\\r\\n中    華    民    國   105    年    9     月    13    日\\r\\n                              書記官  許惠棋'"
      ]
     },
     "execution_count": 50,
     "metadata": {},
     "output_type": "execute_result"
    }
   ],
   "source": [
    "a[0][0][\"JFULL\"]"
   ]
  },
  {
   "cell_type": "code",
   "execution_count": 38,
   "metadata": {},
   "outputs": [
    {
     "data": {
      "text/plain": [
       "1"
      ]
     },
     "execution_count": 38,
     "metadata": {},
     "output_type": "execute_result"
    }
   ],
   "source": []
  },
  {
   "cell_type": "code",
   "execution_count": 19,
   "metadata": {},
   "outputs": [],
   "source": [
    "def read_json_data(file):\n",
    "    import json\n",
    "    with open(file, 'r', encoding=\"utf-8\") as reader:\n",
    "        data = json.load(reader)\n",
    "    return data"
   ]
  },
  {
   "cell_type": "code",
   "execution_count": 40,
   "metadata": {},
   "outputs": [
    {
     "ename": "NotADirectoryError",
     "evalue": "[Errno 20] Not a directory: '/Users/cfh00892302/Downloads/201609/臺東簡易庭民事/TTEV,105,東簡,244,20160909,1.json'",
     "output_type": "error",
     "traceback": [
      "\u001b[0;31m---------------------------------------------------------------------------\u001b[0m",
      "\u001b[0;31mNotADirectoryError\u001b[0m                        Traceback (most recent call last)",
      "Cell \u001b[0;32mIn[40], line 1\u001b[0m\n\u001b[0;32m----> 1\u001b[0m pd\u001b[39m.\u001b[39mread_json(os\u001b[39m.\u001b[39;49mlistdir(source_files \u001b[39m+\u001b[39;49m tmp2[\u001b[39m0\u001b[39;49m] \u001b[39m+\u001b[39;49m \u001b[39m'\u001b[39;49m\u001b[39m/\u001b[39;49m\u001b[39m'\u001b[39;49m \u001b[39m+\u001b[39;49m os\u001b[39m.\u001b[39;49mlistdir(source_files \u001b[39m+\u001b[39;49m tmp2[\u001b[39m0\u001b[39;49m])[\u001b[39m0\u001b[39;49m]))\n",
      "\u001b[0;31mNotADirectoryError\u001b[0m: [Errno 20] Not a directory: '/Users/cfh00892302/Downloads/201609/臺東簡易庭民事/TTEV,105,東簡,244,20160909,1.json'"
     ]
    }
   ],
   "source": [
    "pd.read_json(os.listdir(source_files + tmp2[0] + '/' + os.listdir(source_files + tmp2[0])[0]))"
   ]
  },
  {
   "cell_type": "code",
   "execution_count": 12,
   "metadata": {},
   "outputs": [
    {
     "data": {
      "text/plain": [
       "'臺灣臺東地方法院民事裁定\\u3000\\u3000\\u3000\\u3000\\u3000\\u3000105年度東簡字第244號\\r\\n原\\u3000\\u3000\\u3000告\\u3000高鈺雯\\r\\n被\\u3000\\u3000\\u3000告\\u3000A\\u3000\\u3000\\u3000\\r\\n\\u3000\\u3000\\u3000\\u3000\\u3000\\u3000B\\u3000\\u3000\\u3000\\r\\n上列原告與被告等間請求損害賠償事件，本院裁定如下：\\r\\n    主  文\\r\\n原告應於本裁定送達後五日內，補正起訴狀上被告之真實姓名\\r\\n，並提出其最新戶籍謄本，逾期即駁回其訴。\\r\\n    理  由\\r\\n一、按當事人書狀，應記載當事人姓名及住所或居所；書狀內宜\\r\\n    記載當事人之性別、出生年月日、職業、國民身分證號碼及\\r\\n    其他足資辨別之特徵，民事訴訟法第116 條第1 項第1 款、\\r\\n    第2 項定有明文。次按原告之訴，有起訴不合程式或不備其\\r\\n    他要件者，法院應以裁定駁回之。但其情形可以補正者，審\\r\\n    判長應定期間先命補正，同法第249 條第1 項第6 款亦有明\\r\\n    文。\\r\\n二、本件原告起訴時，未據於起訴狀上載明被告之真實姓名，本\\r\\n    院復依職權以戶役政系統查詢設籍於臺東縣○○市○○○街\\r\\n    0號、臺東縣○○市○○○街0號之戶籍資料，設籍於臺東縣\\r\\n    ○○市○○○街0號者共有8人，臺東縣○○市○○○街 0號\\r\\n    則查無設籍資料，致無法特定原告本件所列之被告，依首開\\r\\n    規定，應定期命原告補正如主文所示事項。\\r\\n三、依民事訴訟法第121條第1項、第249條第1項但書，裁定如主\\r\\n    文。\\r\\n中    華    民    國   105    年    9     月    9     日\\r\\n                  臺東簡易庭  法  官  鍾  晴\\r\\n以上正本係照原本作成。\\r\\n本裁定不得抗告。\\r\\n中    華    民    國   105    年    9     月    9     日\\r\\n                              書記官  陳憶萱'"
      ]
     },
     "execution_count": 12,
     "metadata": {},
     "output_type": "execute_result"
    }
   ],
   "source": [
    "a = '/Users/cfh00892302/Downloads/201609/臺東簡易庭民事/TTEV,105,東簡,244,20160909,1.json'\n",
    "#s = read_json_data(a)\n",
    "#s\n",
    "s = pd.read_json(a, orient='index')\n",
    "#print(type(s))\n",
    "s[0][\"JFULL\"]"
   ]
  },
  {
   "cell_type": "code",
   "execution_count": 16,
   "metadata": {},
   "outputs": [
    {
     "data": {
      "text/plain": [
       "True"
      ]
     },
     "execution_count": 16,
     "metadata": {},
     "output_type": "execute_result"
    }
   ],
   "source": [
    "'105' in s[0][\"JYEAR\"]"
   ]
  }
 ],
 "metadata": {
  "kernelspec": {
   "display_name": "Python 3.9.6 ('env': venv)",
   "language": "python",
   "name": "python3"
  },
  "language_info": {
   "codemirror_mode": {
    "name": "ipython",
    "version": 3
   },
   "file_extension": ".py",
   "mimetype": "text/x-python",
   "name": "python",
   "nbconvert_exporter": "python",
   "pygments_lexer": "ipython3",
   "version": "3.9.6"
  },
  "orig_nbformat": 4,
  "vscode": {
   "interpreter": {
    "hash": "5d58828fd0c5f7af717daf8982e0a9ccf3c174b5c7bbe63b6216d1f875908829"
   }
  }
 },
 "nbformat": 4,
 "nbformat_minor": 2
}
