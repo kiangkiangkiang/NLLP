{
 "cells": [
  {
   "cell_type": "markdown",
   "metadata": {},
   "source": [
    "目標：鎖定一個Folder，找到所有民事folder，接著以\"訴\"or\"重訴\"做篩選找到跟賠償相關的json file，並將有包含“精神慰撫金”的文件丟到目標地點。"
   ]
  },
  {
   "cell_type": "code",
   "execution_count": 37,
   "metadata": {},
   "outputs": [],
   "source": [
    "import os\n",
    "import pandas as pd\n",
    "file_name = '201609'\n",
    "source_files = '/Users/cfh00892302/Downloads/' + file_name + '/'\n",
    "destination_folder = '/Users/cfh00892302/Desktop/myWorkspace/NLLP/data/spirtual_money file/'\n",
    "folder1_filter = \"民事\" \n",
    "folder2_filter = [\"訴\"] #通常賠償案件都在'訴'或是‘重訴’裡面\n",
    "json_filter = [\"精神慰撫金\"] #['精神慰撫金', '車禍‘]\n"
   ]
  },
  {
   "cell_type": "code",
   "execution_count": 35,
   "metadata": {},
   "outputs": [],
   "source": [
    "all_folder = [i for i in os.listdir(source_files) if i.find(folder1_filter) != -1]"
   ]
  },
  {
   "cell_type": "code",
   "execution_count": null,
   "metadata": {},
   "outputs": [],
   "source": [
    "for folder_file in all_folder:\n",
    "    all_json_file = os.listdir(source_files + folder_file)\n",
    "    for json_file in all_json_file:\n",
    "        myjson = os.listdir(source_files + folder_file + all_json_file)\n",
    "        "
   ]
  },
  {
   "cell_type": "code",
   "execution_count": 40,
   "metadata": {},
   "outputs": [
    {
     "ename": "NotADirectoryError",
     "evalue": "[Errno 20] Not a directory: '/Users/cfh00892302/Downloads/201609/臺東簡易庭民事/TTEV,105,東簡,244,20160909,1.json'",
     "output_type": "error",
     "traceback": [
      "\u001b[0;31m---------------------------------------------------------------------------\u001b[0m",
      "\u001b[0;31mNotADirectoryError\u001b[0m                        Traceback (most recent call last)",
      "Cell \u001b[0;32mIn[40], line 1\u001b[0m\n\u001b[0;32m----> 1\u001b[0m pd\u001b[39m.\u001b[39mread_json(os\u001b[39m.\u001b[39;49mlistdir(source_files \u001b[39m+\u001b[39;49m tmp2[\u001b[39m0\u001b[39;49m] \u001b[39m+\u001b[39;49m \u001b[39m'\u001b[39;49m\u001b[39m/\u001b[39;49m\u001b[39m'\u001b[39;49m \u001b[39m+\u001b[39;49m os\u001b[39m.\u001b[39;49mlistdir(source_files \u001b[39m+\u001b[39;49m tmp2[\u001b[39m0\u001b[39;49m])[\u001b[39m0\u001b[39;49m]))\n",
      "\u001b[0;31mNotADirectoryError\u001b[0m: [Errno 20] Not a directory: '/Users/cfh00892302/Downloads/201609/臺東簡易庭民事/TTEV,105,東簡,244,20160909,1.json'"
     ]
    }
   ],
   "source": [
    "pd.read_json(os.listdir(source_files + tmp2[0] + '/' + os.listdir(source_files + tmp2[0])[0]))"
   ]
  },
  {
   "cell_type": "code",
   "execution_count": 43,
   "metadata": {},
   "outputs": [
    {
     "ename": "ValueError",
     "evalue": "JSON data had unexpected key(s): JDATE, JYEAR, JTITLE, JFULL, JID, JNO, JCASE, JPDF",
     "output_type": "error",
     "traceback": [
      "\u001b[0;31m---------------------------------------------------------------------------\u001b[0m",
      "\u001b[0;31mValueError\u001b[0m                                Traceback (most recent call last)",
      "Cell \u001b[0;32mIn[43], line 3\u001b[0m\n\u001b[1;32m      1\u001b[0m a \u001b[39m=\u001b[39m \u001b[39m'\u001b[39m\u001b[39m/Users/cfh00892302/Downloads/201609/臺東簡易庭民事/TTEV,105,東簡,244,20160909,1.json\u001b[39m\u001b[39m'\u001b[39m\n\u001b[0;32m----> 3\u001b[0m pd\u001b[39m.\u001b[39;49mread_json(a, orient\u001b[39m=\u001b[39;49m\u001b[39m'\u001b[39;49m\u001b[39msplit\u001b[39;49m\u001b[39m'\u001b[39;49m)\n",
      "File \u001b[0;32m~/Desktop/myWorkspace/env/lib/python3.9/site-packages/pandas/util/_decorators.py:211\u001b[0m, in \u001b[0;36mdeprecate_kwarg.<locals>._deprecate_kwarg.<locals>.wrapper\u001b[0;34m(*args, **kwargs)\u001b[0m\n\u001b[1;32m    209\u001b[0m     \u001b[39melse\u001b[39;00m:\n\u001b[1;32m    210\u001b[0m         kwargs[new_arg_name] \u001b[39m=\u001b[39m new_arg_value\n\u001b[0;32m--> 211\u001b[0m \u001b[39mreturn\u001b[39;00m func(\u001b[39m*\u001b[39;49margs, \u001b[39m*\u001b[39;49m\u001b[39m*\u001b[39;49mkwargs)\n",
      "File \u001b[0;32m~/Desktop/myWorkspace/env/lib/python3.9/site-packages/pandas/util/_decorators.py:331\u001b[0m, in \u001b[0;36mdeprecate_nonkeyword_arguments.<locals>.decorate.<locals>.wrapper\u001b[0;34m(*args, **kwargs)\u001b[0m\n\u001b[1;32m    325\u001b[0m \u001b[39mif\u001b[39;00m \u001b[39mlen\u001b[39m(args) \u001b[39m>\u001b[39m num_allow_args:\n\u001b[1;32m    326\u001b[0m     warnings\u001b[39m.\u001b[39mwarn(\n\u001b[1;32m    327\u001b[0m         msg\u001b[39m.\u001b[39mformat(arguments\u001b[39m=\u001b[39m_format_argument_list(allow_args)),\n\u001b[1;32m    328\u001b[0m         \u001b[39mFutureWarning\u001b[39;00m,\n\u001b[1;32m    329\u001b[0m         stacklevel\u001b[39m=\u001b[39mfind_stack_level(),\n\u001b[1;32m    330\u001b[0m     )\n\u001b[0;32m--> 331\u001b[0m \u001b[39mreturn\u001b[39;00m func(\u001b[39m*\u001b[39;49margs, \u001b[39m*\u001b[39;49m\u001b[39m*\u001b[39;49mkwargs)\n",
      "File \u001b[0;32m~/Desktop/myWorkspace/env/lib/python3.9/site-packages/pandas/io/json/_json.py:757\u001b[0m, in \u001b[0;36mread_json\u001b[0;34m(path_or_buf, orient, typ, dtype, convert_axes, convert_dates, keep_default_dates, numpy, precise_float, date_unit, encoding, encoding_errors, lines, chunksize, compression, nrows, storage_options)\u001b[0m\n\u001b[1;32m    754\u001b[0m     \u001b[39mreturn\u001b[39;00m json_reader\n\u001b[1;32m    756\u001b[0m \u001b[39mwith\u001b[39;00m json_reader:\n\u001b[0;32m--> 757\u001b[0m     \u001b[39mreturn\u001b[39;00m json_reader\u001b[39m.\u001b[39;49mread()\n",
      "File \u001b[0;32m~/Desktop/myWorkspace/env/lib/python3.9/site-packages/pandas/io/json/_json.py:915\u001b[0m, in \u001b[0;36mJsonReader.read\u001b[0;34m(self)\u001b[0m\n\u001b[1;32m    913\u001b[0m         obj \u001b[39m=\u001b[39m \u001b[39mself\u001b[39m\u001b[39m.\u001b[39m_get_object_parser(\u001b[39mself\u001b[39m\u001b[39m.\u001b[39m_combine_lines(data_lines))\n\u001b[1;32m    914\u001b[0m \u001b[39melse\u001b[39;00m:\n\u001b[0;32m--> 915\u001b[0m     obj \u001b[39m=\u001b[39m \u001b[39mself\u001b[39;49m\u001b[39m.\u001b[39;49m_get_object_parser(\u001b[39mself\u001b[39;49m\u001b[39m.\u001b[39;49mdata)\n\u001b[1;32m    916\u001b[0m \u001b[39mself\u001b[39m\u001b[39m.\u001b[39mclose()\n\u001b[1;32m    917\u001b[0m \u001b[39mreturn\u001b[39;00m obj\n",
      "File \u001b[0;32m~/Desktop/myWorkspace/env/lib/python3.9/site-packages/pandas/io/json/_json.py:937\u001b[0m, in \u001b[0;36mJsonReader._get_object_parser\u001b[0;34m(self, json)\u001b[0m\n\u001b[1;32m    935\u001b[0m obj \u001b[39m=\u001b[39m \u001b[39mNone\u001b[39;00m\n\u001b[1;32m    936\u001b[0m \u001b[39mif\u001b[39;00m typ \u001b[39m==\u001b[39m \u001b[39m\"\u001b[39m\u001b[39mframe\u001b[39m\u001b[39m\"\u001b[39m:\n\u001b[0;32m--> 937\u001b[0m     obj \u001b[39m=\u001b[39m FrameParser(json, \u001b[39m*\u001b[39;49m\u001b[39m*\u001b[39;49mkwargs)\u001b[39m.\u001b[39;49mparse()\n\u001b[1;32m    939\u001b[0m \u001b[39mif\u001b[39;00m typ \u001b[39m==\u001b[39m \u001b[39m\"\u001b[39m\u001b[39mseries\u001b[39m\u001b[39m\"\u001b[39m \u001b[39mor\u001b[39;00m obj \u001b[39mis\u001b[39;00m \u001b[39mNone\u001b[39;00m:\n\u001b[1;32m    940\u001b[0m     \u001b[39mif\u001b[39;00m \u001b[39mnot\u001b[39;00m \u001b[39misinstance\u001b[39m(dtype, \u001b[39mbool\u001b[39m):\n",
      "File \u001b[0;32m~/Desktop/myWorkspace/env/lib/python3.9/site-packages/pandas/io/json/_json.py:1064\u001b[0m, in \u001b[0;36mParser.parse\u001b[0;34m(self)\u001b[0m\n\u001b[1;32m   1062\u001b[0m     \u001b[39mself\u001b[39m\u001b[39m.\u001b[39m_parse_numpy()\n\u001b[1;32m   1063\u001b[0m \u001b[39melse\u001b[39;00m:\n\u001b[0;32m-> 1064\u001b[0m     \u001b[39mself\u001b[39;49m\u001b[39m.\u001b[39;49m_parse_no_numpy()\n\u001b[1;32m   1066\u001b[0m \u001b[39mif\u001b[39;00m \u001b[39mself\u001b[39m\u001b[39m.\u001b[39mobj \u001b[39mis\u001b[39;00m \u001b[39mNone\u001b[39;00m:\n\u001b[1;32m   1067\u001b[0m     \u001b[39mreturn\u001b[39;00m \u001b[39mNone\u001b[39;00m\n",
      "File \u001b[0;32m~/Desktop/myWorkspace/env/lib/python3.9/site-packages/pandas/io/json/_json.py:1328\u001b[0m, in \u001b[0;36mFrameParser._parse_no_numpy\u001b[0;34m(self)\u001b[0m\n\u001b[1;32m   1323\u001b[0m \u001b[39melif\u001b[39;00m orient \u001b[39m==\u001b[39m \u001b[39m\"\u001b[39m\u001b[39msplit\u001b[39m\u001b[39m\"\u001b[39m:\n\u001b[1;32m   1324\u001b[0m     decoded \u001b[39m=\u001b[39m {\n\u001b[1;32m   1325\u001b[0m         \u001b[39mstr\u001b[39m(k): v\n\u001b[1;32m   1326\u001b[0m         \u001b[39mfor\u001b[39;00m k, v \u001b[39min\u001b[39;00m loads(json, precise_float\u001b[39m=\u001b[39m\u001b[39mself\u001b[39m\u001b[39m.\u001b[39mprecise_float)\u001b[39m.\u001b[39mitems()\n\u001b[1;32m   1327\u001b[0m     }\n\u001b[0;32m-> 1328\u001b[0m     \u001b[39mself\u001b[39;49m\u001b[39m.\u001b[39;49mcheck_keys_split(decoded)\n\u001b[1;32m   1329\u001b[0m     \u001b[39mself\u001b[39m\u001b[39m.\u001b[39mobj \u001b[39m=\u001b[39m DataFrame(dtype\u001b[39m=\u001b[39m\u001b[39mNone\u001b[39;00m, \u001b[39m*\u001b[39m\u001b[39m*\u001b[39mdecoded)\n\u001b[1;32m   1330\u001b[0m \u001b[39melif\u001b[39;00m orient \u001b[39m==\u001b[39m \u001b[39m\"\u001b[39m\u001b[39mindex\u001b[39m\u001b[39m\"\u001b[39m:\n",
      "File \u001b[0;32m~/Desktop/myWorkspace/env/lib/python3.9/site-packages/pandas/io/json/_json.py:1057\u001b[0m, in \u001b[0;36mParser.check_keys_split\u001b[0;34m(self, decoded)\u001b[0m\n\u001b[1;32m   1055\u001b[0m \u001b[39mif\u001b[39;00m bad_keys:\n\u001b[1;32m   1056\u001b[0m     bad_keys_joined \u001b[39m=\u001b[39m \u001b[39m\"\u001b[39m\u001b[39m, \u001b[39m\u001b[39m\"\u001b[39m\u001b[39m.\u001b[39mjoin(bad_keys)\n\u001b[0;32m-> 1057\u001b[0m     \u001b[39mraise\u001b[39;00m \u001b[39mValueError\u001b[39;00m(\u001b[39mf\u001b[39m\u001b[39m\"\u001b[39m\u001b[39mJSON data had unexpected key(s): \u001b[39m\u001b[39m{\u001b[39;00mbad_keys_joined\u001b[39m}\u001b[39;00m\u001b[39m\"\u001b[39m)\n",
      "\u001b[0;31mValueError\u001b[0m: JSON data had unexpected key(s): JDATE, JYEAR, JTITLE, JFULL, JID, JNO, JCASE, JPDF"
     ]
    }
   ],
   "source": [
    "a = '/Users/cfh00892302/Downloads/201609/臺東簡易庭民事/TTEV,105,東簡,244,20160909,1.json'\n",
    "\n",
    "pd.read_json(a, orient='split')"
   ]
  },
  {
   "cell_type": "code",
   "execution_count": 36,
   "metadata": {},
   "outputs": [
    {
     "data": {
      "text/plain": [
       "['臺東簡易庭民事',\n",
       " '臺南簡易庭民事',\n",
       " '新市簡易庭民事',\n",
       " '鳳山簡易庭民事',\n",
       " '最高法院民事',\n",
       " '臺灣新北地方法院民事',\n",
       " '臺灣臺北地方法院民事',\n",
       " '臺灣臺南地方法院民事',\n",
       " '臺灣苗栗地方法院民事',\n",
       " '臺灣桃園地方法院民事',\n",
       " '花蓮簡易庭(含玉里)民事',\n",
       " '臺灣高等法院花蓮分院民事',\n",
       " '臺灣雲林地方法院民事',\n",
       " '臺灣南投地方法院民事',\n",
       " '臺灣高雄地方法院民事',\n",
       " '宜蘭簡易庭民事',\n",
       " '斗六簡易庭民事',\n",
       " '沙鹿簡易庭民事',\n",
       " '福建連江地方法院民事',\n",
       " '柳營簡易庭民事',\n",
       " '臺中簡易庭民事',\n",
       " '屏東簡易庭民事',\n",
       " '豐原簡易庭民事',\n",
       " '馬公簡易庭民事',\n",
       " '高雄簡易庭民事',\n",
       " '臺灣宜蘭地方法院民事',\n",
       " '智慧財產及商業法院民事',\n",
       " '中壢簡易庭民事',\n",
       " '臺灣彰化地方法院民事',\n",
       " '金城簡易庭民事',\n",
       " '潮州簡易庭民事',\n",
       " '三重簡易庭民事',\n",
       " '臺灣高等法院民事',\n",
       " '臺灣臺東地方法院民事',\n",
       " '北港簡易庭民事',\n",
       " '臺灣澎湖地方法院民事',\n",
       " '臺灣高等法院高雄分院民事',\n",
       " '南投簡易庭(含埔里)民事',\n",
       " '橋頭簡易庭民事',\n",
       " '彰化簡易庭民事',\n",
       " '臺灣臺中地方法院民事',\n",
       " '士林簡易庭民事',\n",
       " '臺灣士林地方法院民事',\n",
       " '北斗簡易庭民事',\n",
       " '岡山簡易庭民事',\n",
       " '新店簡易庭民事',\n",
       " '員林簡易庭民事',\n",
       " '旗山簡易庭民事',\n",
       " '臺灣橋頭地方法院民事',\n",
       " '臺灣屏東地方法院民事',\n",
       " '嘉義簡易庭(含朴子)民事',\n",
       " '臺灣高等法院臺南分院民事',\n",
       " '臺灣高等法院臺中分院民事',\n",
       " '桃園簡易庭民事',\n",
       " '臺灣基隆地方法院民事',\n",
       " '臺灣嘉義地方法院民事',\n",
       " '福建金門地方法院民事',\n",
       " '福建高等法院金門分院民事',\n",
       " '臺灣高雄少年及家事法院民事',\n",
       " '板橋簡易庭民事',\n",
       " '臺北簡易庭民事',\n",
       " '羅東簡易庭民事',\n",
       " '臺灣花蓮地方法院民事',\n",
       " '虎尾簡易庭民事',\n",
       " '竹北簡易庭(含竹東)民事',\n",
       " '內湖簡易庭民事',\n",
       " '臺灣新竹地方法院民事']"
      ]
     },
     "execution_count": 36,
     "metadata": {},
     "output_type": "execute_result"
    }
   ],
   "source": [
    "all_folder"
   ]
  }
 ],
 "metadata": {
  "kernelspec": {
   "display_name": "Python 3.9.6 ('env': venv)",
   "language": "python",
   "name": "python3"
  },
  "language_info": {
   "codemirror_mode": {
    "name": "ipython",
    "version": 3
   },
   "file_extension": ".py",
   "mimetype": "text/x-python",
   "name": "python",
   "nbconvert_exporter": "python",
   "pygments_lexer": "ipython3",
   "version": "3.9.6"
  },
  "orig_nbformat": 4,
  "vscode": {
   "interpreter": {
    "hash": "5d58828fd0c5f7af717daf8982e0a9ccf3c174b5c7bbe63b6216d1f875908829"
   }
  }
 },
 "nbformat": 4,
 "nbformat_minor": 2
}
