{
 "cells": [
  {
   "cell_type": "markdown",
   "metadata": {},
   "source": [
    "資料來源官方網站：https://opendata.judicial.gov.tw/dataset?categoryTheme4Sys%5B0%5D=051&sort.publishedDate.order=desc&page=1\n",
    "\n",
    "目標：從官網點RAR手動下載後解壓所後，直接找到檔案裡面的所有\"民事\"案件，接著找到有包含“精神慰撫金”和“車禍”的json打包起來丟到目標地點。\n",
    "\n",
    "下載時間：2023/2/20 ~ 2023/2/21\n",
    "\n",
    "資料：2022/11 ~ 2016/01 (page.25 done)"
   ]
  },
  {
   "cell_type": "code",
   "execution_count": 75,
   "metadata": {},
   "outputs": [],
   "source": [
    "import os\n",
    "import pandas as pd\n",
    "import numpy as np\n",
    "#Done: 2022 all, 2021 12~10,\n",
    "file_name = '202209'\n",
    "source_files = '/Users/cfh00892302/Downloads/' + file_name + \"/\"\n",
    "#source_files = '/Users/cfh00892302/Downloads/' + file_name\n",
    "destination_folder = '/Users/cfh00892302/Desktop/myWorkspace/NLLP/data/spiritual_money file/'\n",
    "folder_filter = \"民事\" \n",
    "json_filter = {'JFULL': [\"慰撫金\", \"車禍\"]} #or {'JFULL': ['精神慰撫金', '車禍‘], 'JYEAR': ['105']}\n"
   ]
  },
  {
   "cell_type": "code",
   "execution_count": 76,
   "metadata": {},
   "outputs": [],
   "source": [
    "all_folder = [i for i in os.listdir(source_files) if i.find(folder_filter) != -1]"
   ]
  },
  {
   "cell_type": "code",
   "execution_count": 93,
   "metadata": {},
   "outputs": [],
   "source": [
    "def filter_spiritual_file(\n",
    "    source_files=source_files,\n",
    "    destination_folder=destination_folder,\n",
    "    all_folder=all_folder,\n",
    "    json_filter=json_filter,\n",
    "    save_file=True,\n",
    "    return_remain_json=True,\n",
    "    save_file_name=file_name\n",
    "    ):\n",
    "\n",
    "    print(\"Start...\")\n",
    "    remain_file_counter = 0\n",
    "    remain_json = []\n",
    "    for folder_file in all_folder:\n",
    "        print(\"Now \", save_file_name, \" : Folder in \", folder_file)\n",
    "        all_json_file = os.listdir(source_files + folder_file)\n",
    "        for json_file in all_json_file:\n",
    "            myjson = source_files + folder_file + '/' + json_file\n",
    "            context = pd.read_json(myjson, orient='index')\n",
    "\n",
    "            #start using json_filter to filter file\n",
    "            remain_this_json = True\n",
    "            for filter_key, filter_value in json_filter.items():\n",
    "                for value in filter_value:\n",
    "                    if value not in context[0][filter_key]:\n",
    "                        remain_this_json = False\n",
    "                        break\n",
    "                if not remain_this_json:\n",
    "                    break\n",
    "                \n",
    "            if remain_this_json:\n",
    "                remain_file_counter += 1\n",
    "                if remain_file_counter % 10 == 0:\n",
    "                    print(\"Accumulate file: \", remain_file_counter)\n",
    "\n",
    "                if return_remain_json or save_file:\n",
    "                    remain_json.append(context)\n",
    "\n",
    "    print(\"Total file: \", remain_file_counter)    \n",
    "    print(\"Done.\")\n",
    "    if save_file:\n",
    "        np.save(destination_folder + \"spiritual_\" + save_file_name, remain_json)\n",
    "    if return_remain_json:\n",
    "        return remain_json\n",
    "                "
   ]
  },
  {
   "cell_type": "markdown",
   "metadata": {},
   "source": [
    "一次一筆"
   ]
  },
  {
   "cell_type": "code",
   "execution_count": null,
   "metadata": {},
   "outputs": [],
   "source": [
    "#filter_spiritual_file(save_file=True, return_remain_json=False)"
   ]
  },
  {
   "cell_type": "markdown",
   "metadata": {},
   "source": [
    "一次多筆"
   ]
  },
  {
   "cell_type": "code",
   "execution_count": null,
   "metadata": {},
   "outputs": [],
   "source": [
    "#month = [\"01\", \"02\", \"03\", \"04\", \"05\", \"06\", \"07\", \"08\", \"09\", \"10\", \"11\", \"12\"]\n",
    "#file_name = ['202106', '202105', '202104', '202103', '202102', '202101'] + [i + u for i in [\"2020\", \"2019\", \"2018\"] for u in month]\n",
    "month = [\"01\", \"02\", \"03\", \"04\", \"05\", \"06\", \"07\", \"08\", \"09\", \"10\", \"11\"]\n",
    "file_name = [\"2016\" + i for i in list(reversed(month))]\n",
    "#file_name = [\"201612\"]\n",
    "for file in file_name:\n",
    "    source_files = '/Users/cfh00892302/Downloads/' + file + \"/\"\n",
    "    all_folder = [i for i in os.listdir(source_files) if i.find(folder_filter) != -1]\n",
    "    filter_spiritual_file(save_file=True, return_remain_json=False, source_files=source_files, all_folder=all_folder, save_file_name=file)\n",
    "    sss = np.load(destination_folder + \"spiritual_\" + file + \".npy\", allow_pickle=True)\n",
    "    print(sss[0])"
   ]
  }
 ],
 "metadata": {
  "kernelspec": {
   "display_name": "Python 3.9.6 ('env': venv)",
   "language": "python",
   "name": "python3"
  },
  "language_info": {
   "codemirror_mode": {
    "name": "ipython",
    "version": 3
   },
   "file_extension": ".py",
   "mimetype": "text/x-python",
   "name": "python",
   "nbconvert_exporter": "python",
   "pygments_lexer": "ipython3",
   "version": "3.9.6"
  },
  "orig_nbformat": 4,
  "vscode": {
   "interpreter": {
    "hash": "5d58828fd0c5f7af717daf8982e0a9ccf3c174b5c7bbe63b6216d1f875908829"
   }
  }
 },
 "nbformat": 4,
 "nbformat_minor": 2
}
