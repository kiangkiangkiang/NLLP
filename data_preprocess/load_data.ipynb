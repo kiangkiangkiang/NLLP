{
 "cells": [
  {
   "cell_type": "markdown",
   "metadata": {},
   "source": [
    "### Load data/spiritual_money file資料夾的所有zip檔，需先下載spiritual_money這個folder\n",
    "locate your data folder (download from github: https://github.com/kiangkiangkiang/NLLP/tree/main/data)"
   ]
  },
  {
   "cell_type": "code",
   "execution_count": 1,
   "metadata": {},
   "outputs": [],
   "source": [
    "import numpy as np\n",
    "myZipFile = '/Users/cfh00892302/Desktop/myWorkspace/NLLP/data/spiritual_money file/'"
   ]
  },
  {
   "cell_type": "markdown",
   "metadata": {},
   "source": [
    "#### Load特定年份的資料\n",
    "Load Zip File using np.load"
   ]
  },
  {
   "cell_type": "code",
   "execution_count": 71,
   "metadata": {},
   "outputs": [],
   "source": [
    "specific_zipFile = \"spiritual_2022.zip\"\n",
    "all_spiritual_file = np.load(myZipFile + specific_zipFile, allow_pickle=True)"
   ]
  },
  {
   "cell_type": "markdown",
   "metadata": {},
   "source": [
    "所有zip裡面的檔案 （後續可以針對此名稱取特定json）"
   ]
  },
  {
   "cell_type": "code",
   "execution_count": 50,
   "metadata": {},
   "outputs": [
    {
     "data": {
      "text/plain": [
       "['spiritual_202201',\n",
       " 'spiritual_202202',\n",
       " 'spiritual_202203',\n",
       " 'spiritual_202204',\n",
       " 'spiritual_202205',\n",
       " 'spiritual_202206',\n",
       " 'spiritual_202207',\n",
       " 'spiritual_202208',\n",
       " 'spiritual_202209',\n",
       " 'spiritual_202210',\n",
       " 'spiritual_202211']"
      ]
     },
     "execution_count": 50,
     "metadata": {},
     "output_type": "execute_result"
    }
   ],
   "source": [
    "list(all_spiritual_file)"
   ]
  },
  {
   "cell_type": "markdown",
   "metadata": {},
   "source": [
    "取某月分的資料"
   ]
  },
  {
   "cell_type": "code",
   "execution_count": null,
   "metadata": {},
   "outputs": [],
   "source": [
    "all_spiritual_file[\"spiritual_202209\"][:3]\n",
    "#or all_spiritual_file[list(all_spiritual_file)[0]][:3]"
   ]
  },
  {
   "cell_type": "markdown",
   "metadata": {},
   "source": [
    "#### Load所有在spiritual_money資料夾下的zip檔\n",
    "load all file"
   ]
  },
  {
   "cell_type": "code",
   "execution_count": 2,
   "metadata": {},
   "outputs": [],
   "source": [
    "import os\n",
    "import re\n",
    "\n",
    "\n",
    "def simple_preprocess(fileList):\n",
    "    pattern = re.compile(\"\\r\\n     |\\r\\n   |\\u3000| \")\n",
    "    for i in range(len(fileList)):\n",
    "        fileList[i][6][0] = re.sub(pattern, \"\", fileList[i][6][0])\n",
    "    return fileList\n",
    "\n",
    "\n",
    "def get_all_spiritual_file(\n",
    "    all_zip_folder=myZipFile,\n",
    "    preprocessing=False\n",
    "    ):\n",
    "\n",
    "    all_spiritual_file = np.array([]).reshape(0, 8, 1)\n",
    "    for file in os.listdir(all_zip_folder):\n",
    "        if \".zip\" in file:\n",
    "            spiritual_years_file = np.load(myZipFile + file, allow_pickle=True)\n",
    "            for months in spiritual_years_file:\n",
    "                spiritual_months_file = spiritual_years_file[months]#np.array in this month\n",
    "                if preprocessing:\n",
    "                    spiritual_months_file = simple_preprocess(spiritual_months_file)\n",
    "                all_spiritual_file = np.concatenate((all_spiritual_file, \n",
    "                                                     spiritual_months_file), \n",
    "                                                     axis=0)\n",
    "            print(\"Collect \", all_spiritual_file.shape[0])\n",
    "    return all_spiritual_file\n",
    "    \n"
   ]
  },
  {
   "cell_type": "code",
   "execution_count": 3,
   "metadata": {},
   "outputs": [
    {
     "name": "stdout",
     "output_type": "stream",
     "text": [
      "Collect  2630\n",
      "Collect  5475\n",
      "Collect  7937\n",
      "Collect  10668\n",
      "Collect  13336\n",
      "Collect  15898\n",
      "Collect  18595\n",
      "(18595, 8, 1)\n"
     ]
    }
   ],
   "source": [
    "#all file in all_file\n",
    "all_file = get_all_spiritual_file(all_zip_folder=myZipFile, preprocessing=True)\n",
    "print(all_file.shape)"
   ]
  },
  {
   "cell_type": "code",
   "execution_count": null,
   "metadata": {},
   "outputs": [],
   "source": [
    "#show\n",
    "#all_file[135][6][0].split(\"\\r\\n\")\n",
    "#all_file[1000][6][0].split(\"\\r\\n\")\n",
    "all_file[1000][6][0].split(\"\\r\\n\")\n",
    "#len(str.replace(all_file[1000][6][0], \"\\r\\n\", \"\"))\n",
    "\n",
    "#正常case\n",
    "#all_file[9822][6][0].split(\"\\r\\n\")\n",
    "#all_file[123][6][0].split(\"\\r\\n\")\n",
    "#all_file[1003][6][0].split(\"\\r\\n\")\n",
    "\n",
    "#精神慰撫金在蠻特別的位置:\n",
    "#all_file[5829][6][0].split(\"\\r\\n\")\n",
    "#all_file[82][6][0].split(\"\\r\\n\")\n",
    "\n",
    "\n",
    "#### 難的Case\n",
    "#all_file[1000][6][0].split(\"\\r\\n\")#多人\n",
    "#all_file[1001][6][0].split(\"\\r\\n\")#段落不明，沒有法院之判斷之類的段落\n",
    "\n",
    "#到底賠了多少看不懂:\n",
    "#all_file[6543][6][0].split(\"\\r\\n\")\n",
    "#all_file[10211][6][0].split(\"\\r\\n\")\n",
    "#all_file[1002][6][0].split(\"\\r\\n\")\n",
    "####\n",
    "\n",
    "\n",
    "#其他\n",
    "#all_file[193][6][0].split(\"\\r\\n\")\n",
    "#all_file[2700][6][0].split(\"\\r\\n\")"
   ]
  },
  {
   "cell_type": "code",
   "execution_count": 33,
   "metadata": {},
   "outputs": [],
   "source": [
    "#export txt file for toy example \n",
    "random_size = 10\n",
    "ind = np.random.choice(range(len(all_file)), random_size, replace=False)\n",
    "path = 'toy_example.txt'\n",
    "with open(path, 'w') as f:\n",
    "    for i in ind:\n",
    "        output = str.replace(all_file[i][6][0], \"\\r\\n\", \"\")\n",
    "        f.write(output + \"\\n\")\n",
    "\n"
   ]
  },
  {
   "cell_type": "code",
   "execution_count": 62,
   "metadata": {},
   "outputs": [
    {
     "name": "stdout",
     "output_type": "stream",
     "text": [
      "['⒈', '⒉', '⒊', '⒋', '⒌', '⒍', '⒎', '⒏', '⒐', '⒑', '⒒', '⒓', '⒔', '⒕', '⒖', '⒗', '⒘', '⒙', '⒚', '⒛']\n",
      "['㈠', '㈡', '㈢', '㈣', '㈤', '㈥', '㈦', '㈧', '㈨', '㈩']\n",
      "[22777, 36019, 21441, 32902, 20237, 38520, 26578, 25420, 29590, 25342]\n"
     ]
    },
    {
     "data": {
      "text/plain": [
       "20108"
      ]
     },
     "execution_count": 62,
     "metadata": {},
     "output_type": "execute_result"
    }
   ],
   "source": [
    "#[\"三、得心證之理由：\"]\n",
    "#特殊字元\n",
    "print([chr(i) for i in range(9352, 9372)]) #只到20\n",
    "print([chr(i) for i in range(12832, 12842)]) #只到10\n",
    "print([ord(i) for i in ['壹' ,'貳', '叁', '肆', '伍', '陸', '柒', '捌', '玖', '拾']])"
   ]
  },
  {
   "cell_type": "markdown",
   "metadata": {},
   "source": [
    "Note:\n",
    "\n",
    "- 會有人名是：黃○𡍼𡍼（第1000篇）\n",
    "- 還有髒資料[第1001篇：\\uf6af, \\uf6ae, \\uf6b0, \\uf6ad, \\uf6ac, \\uf6ab, \\uf6aa, \\uf6a9]\n",
    "- 可能可以用的關鍵字：“為適當”，“逾此部分”, \"方屬適當\"，"
   ]
  },
  {
   "cell_type": "code",
   "execution_count": 25,
   "metadata": {},
   "outputs": [],
   "source": [
    "path = 'test.txt'\n",
    "with open(path, 'w') as f:\n",
    "    pass"
   ]
  }
 ],
 "metadata": {
  "kernelspec": {
   "display_name": "Python 3.9.6 ('env': venv)",
   "language": "python",
   "name": "python3"
  },
  "language_info": {
   "codemirror_mode": {
    "name": "ipython",
    "version": 3
   },
   "file_extension": ".py",
   "mimetype": "text/x-python",
   "name": "python",
   "nbconvert_exporter": "python",
   "pygments_lexer": "ipython3",
   "version": "3.9.6"
  },
  "orig_nbformat": 4,
  "vscode": {
   "interpreter": {
    "hash": "5d58828fd0c5f7af717daf8982e0a9ccf3c174b5c7bbe63b6216d1f875908829"
   }
  }
 },
 "nbformat": 4,
 "nbformat_minor": 2
}
