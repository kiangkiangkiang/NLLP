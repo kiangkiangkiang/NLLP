{
 "cells": [
  {
   "cell_type": "markdown",
   "metadata": {},
   "source": [
    "### Load data/spiritual_money file資料夾的所有zip檔，需先下載spiritual_money這個folder\n",
    "locate your data folder (download from github: https://github.com/kiangkiangkiang/NLLP/tree/main/data)"
   ]
  },
  {
   "cell_type": "code",
   "execution_count": 1,
   "metadata": {},
   "outputs": [],
   "source": [
    "import numpy as np\n",
    "myZipFile = '/Users/cfh00892302/Desktop/myWorkspace/NLLP/data/spiritual_money file/'"
   ]
  },
  {
   "cell_type": "markdown",
   "metadata": {},
   "source": [
    "#### Load特定年份的資料\n",
    "Load Zip File using np.load"
   ]
  },
  {
   "cell_type": "code",
   "execution_count": 2,
   "metadata": {},
   "outputs": [],
   "source": [
    "specific_zipFile = \"spiritual_2022.zip\"\n",
    "all_spiritual_file = np.load(myZipFile + specific_zipFile, allow_pickle=True)"
   ]
  },
  {
   "cell_type": "markdown",
   "metadata": {},
   "source": [
    "所有zip裡面的檔案 （後續可以針對此名稱取特定json）"
   ]
  },
  {
   "cell_type": "code",
   "execution_count": 50,
   "metadata": {},
   "outputs": [
    {
     "data": {
      "text/plain": [
       "['spiritual_202201',\n",
       " 'spiritual_202202',\n",
       " 'spiritual_202203',\n",
       " 'spiritual_202204',\n",
       " 'spiritual_202205',\n",
       " 'spiritual_202206',\n",
       " 'spiritual_202207',\n",
       " 'spiritual_202208',\n",
       " 'spiritual_202209',\n",
       " 'spiritual_202210',\n",
       " 'spiritual_202211']"
      ]
     },
     "execution_count": 50,
     "metadata": {},
     "output_type": "execute_result"
    }
   ],
   "source": [
    "list(all_spiritual_file)"
   ]
  },
  {
   "cell_type": "markdown",
   "metadata": {},
   "source": [
    "取某月分的資料"
   ]
  },
  {
   "cell_type": "code",
   "execution_count": null,
   "metadata": {},
   "outputs": [],
   "source": [
    "all_spiritual_file[\"spiritual_202209\"][:3]\n",
    "#or all_spiritual_file[list(all_spiritual_file)[0]][:3]"
   ]
  },
  {
   "cell_type": "markdown",
   "metadata": {},
   "source": [
    "#### Load所有在spiritual_money資料夾下的zip檔\n",
    "load all file"
   ]
  },
  {
   "cell_type": "code",
   "execution_count": 3,
   "metadata": {},
   "outputs": [],
   "source": [
    "import os\n",
    "import re\n",
    "\n",
    "\n",
    "def simple_preprocess(fileList):\n",
    "    pattern = re.compile(\"\\r\\n     |\\r\\n   |\\u3000| \")\n",
    "    for i in range(len(fileList)):\n",
    "        fileList[i][6][0] = re.sub(pattern, \"\", fileList[i][6][0])\n",
    "    return fileList\n",
    "\n",
    "\n",
    "def get_all_spiritual_file(\n",
    "    all_zip_folder=myZipFile,\n",
    "    preprocessing=False\n",
    "    ):\n",
    "\n",
    "    all_spiritual_file = np.array([]).reshape(0, 8, 1)\n",
    "    for file in os.listdir(all_zip_folder):\n",
    "        if \".zip\" in file:\n",
    "            spiritual_years_file = np.load(myZipFile + file, allow_pickle=True)\n",
    "            for months in spiritual_years_file:\n",
    "                spiritual_months_file = spiritual_years_file[months]#np.array in this month\n",
    "                if preprocessing:\n",
    "                    spiritual_months_file = simple_preprocess(spiritual_months_file)\n",
    "                all_spiritual_file = np.concatenate((all_spiritual_file, \n",
    "                                                     spiritual_months_file), \n",
    "                                                     axis=0)\n",
    "            print(\"Collect \", all_spiritual_file.shape[0])\n",
    "    return all_spiritual_file\n",
    "    \n"
   ]
  },
  {
   "cell_type": "code",
   "execution_count": 4,
   "metadata": {},
   "outputs": [
    {
     "name": "stdout",
     "output_type": "stream",
     "text": [
      "Collect  2630\n",
      "Collect  5475\n",
      "Collect  7937\n",
      "Collect  10668\n",
      "Collect  13336\n",
      "Collect  15898\n",
      "Collect  18595\n",
      "(18595, 8, 1)\n"
     ]
    }
   ],
   "source": [
    "#all file in all_file\n",
    "all_file = get_all_spiritual_file(all_zip_folder=myZipFile, preprocessing=True)\n",
    "print(all_file.shape)"
   ]
  },
  {
   "cell_type": "code",
   "execution_count": 1,
   "metadata": {},
   "outputs": [
    {
     "ename": "NameError",
     "evalue": "name 'all_file' is not defined",
     "output_type": "error",
     "traceback": [
      "\u001b[0;31m---------------------------------------------------------------------------\u001b[0m",
      "\u001b[0;31mNameError\u001b[0m                                 Traceback (most recent call last)",
      "Cell \u001b[0;32mIn[1], line 4\u001b[0m\n\u001b[1;32m      1\u001b[0m \u001b[39m#show\u001b[39;00m\n\u001b[1;32m      2\u001b[0m \u001b[39m#all_file[135][6][0].split(\"\\r\\n\")\u001b[39;00m\n\u001b[1;32m      3\u001b[0m \u001b[39m#all_file[1000][6][0].split(\"\\r\\n\")\u001b[39;00m\n\u001b[0;32m----> 4\u001b[0m all_file[\u001b[39m1000\u001b[39m][\u001b[39m6\u001b[39m][\u001b[39m0\u001b[39m]\u001b[39m.\u001b[39msplit(\u001b[39m\"\u001b[39m\u001b[39m\\r\u001b[39;00m\u001b[39m\\n\u001b[39;00m\u001b[39m\"\u001b[39m)\n\u001b[1;32m      5\u001b[0m all_file[\u001b[39m7787\u001b[39m][\u001b[39m6\u001b[39m][\u001b[39m0\u001b[39m]\u001b[39m.\u001b[39mreplace(\u001b[39m\"\u001b[39m\u001b[39m\\r\u001b[39;00m\u001b[39m\\n\u001b[39;00m\u001b[39m\"\u001b[39m, \u001b[39m\"\u001b[39m\u001b[39m\"\u001b[39m)\n\u001b[1;32m      6\u001b[0m \u001b[39m#len(str.replace(all_file[1000][6][0], \"\\r\\n\", \"\"))\u001b[39;00m\n\u001b[1;32m      7\u001b[0m \n\u001b[1;32m      8\u001b[0m \u001b[39m#正常case\u001b[39;00m\n\u001b[0;32m   (...)\u001b[0m\n\u001b[1;32m     30\u001b[0m \u001b[39m#all_file[193][6][0].split(\"\\r\\n\")\u001b[39;00m\n\u001b[1;32m     31\u001b[0m \u001b[39m#all_file[2700][6][0].split(\"\\r\\n\")\u001b[39;00m\n",
      "\u001b[0;31mNameError\u001b[0m: name 'all_file' is not defined"
     ]
    }
   ],
   "source": [
    "#show\n",
    "#all_file[135][6][0].split(\"\\r\\n\")\n",
    "#all_file[1000][6][0].split(\"\\r\\n\")\n",
    "all_file[1000][6][0].split(\"\\r\\n\")\n",
    "all_file[7787][6][0].replace(\"\\r\\n\", \"\")\n",
    "#len(str.replace(all_file[1000][6][0], \"\\r\\n\", \"\"))\n",
    "\n",
    "#正常case\n",
    "#all_file[9822][6][0].split(\"\\r\\n\")\n",
    "#all_file[123][6][0].split(\"\\r\\n\")\n",
    "#all_file[1003][6][0].split(\"\\r\\n\")\n",
    "\n",
    "#精神慰撫金在蠻特別的位置:\n",
    "#all_file[5829][6][0].split(\"\\r\\n\")\n",
    "#all_file[82][6][0].split(\"\\r\\n\")\n",
    "\n",
    "\n",
    "#### 難的Case\n",
    "#all_file[1000][6][0].split(\"\\r\\n\")#多人\n",
    "#all_file[1001][6][0].split(\"\\r\\n\")#段落不明，沒有法院之判斷之類的段落\n",
    "\n",
    "#到底賠了多少看不懂:\n",
    "#all_file[6543][6][0].split(\"\\r\\n\")\n",
    "#all_file[10211][6][0].split(\"\\r\\n\")\n",
    "#all_file[1002][6][0].split(\"\\r\\n\")\n",
    "####\n",
    "\n",
    "\n",
    "#其他\n",
    "#all_file[193][6][0].split(\"\\r\\n\")\n",
    "#all_file[2700][6][0].split(\"\\r\\n\")"
   ]
  },
  {
   "cell_type": "code",
   "execution_count": 10,
   "metadata": {},
   "outputs": [],
   "source": [
    "#export txt file for toy example \n",
    "random_size = 3\n",
    "ind = np.random.choice(range(len(all_file)), random_size, replace=False)\n",
    "#path = 'toy_example.txt'\n",
    "#path = \"demo_for_label.txt\"\n",
    "path = \"test.txt\"\n",
    "#path = \"ml_backend_test_data.txt\"\n",
    "\n",
    "with open(path, 'w') as f:\n",
    "    for i in ind:\n",
    "        output = str.replace(all_file[i][6][0], \"\\r\\n\", \"\")\n",
    "        f.write(output + \"\\n\")\n",
    "\n"
   ]
  },
  {
   "cell_type": "code",
   "execution_count": null,
   "metadata": {},
   "outputs": [],
   "source": [
    "#[\"三、得心證之理由：\"]\n",
    "#特殊字元\n",
    "print([chr(i) for i in range(9352, 9372)]) #只到20\n",
    "print([chr(i) for i in range(12832, 12842)]) #只到10\n",
    "print([ord(i) for i in ['壹' ,'貳', '叁', '肆', '伍', '陸', '柒', '捌', '玖', '拾']])"
   ]
  },
  {
   "cell_type": "markdown",
   "metadata": {},
   "source": [
    "Note:\n",
    "\n",
    "- 會有人名是：黃○𡍼𡍼（第1000篇）\n",
    "- 還有髒資料[第1001篇：\\uf6af, \\uf6ae, \\uf6b0, \\uf6ad, \\uf6ac, \\uf6ab, \\uf6aa, \\uf6a9]\n",
    "- 可能可以用的關鍵字：“為適當”，“逾此部分”, \"方屬適當\"，"
   ]
  },
  {
   "cell_type": "code",
   "execution_count": 25,
   "metadata": {},
   "outputs": [],
   "source": [
    "path = 'test.txt'\n",
    "with open(path, 'w') as f:\n",
    "    pass"
   ]
  },
  {
   "cell_type": "code",
   "execution_count": 39,
   "metadata": {},
   "outputs": [
    {
     "name": "stdout",
     "output_type": "stream",
     "text": [
      "18595\n",
      "18595\n"
     ]
    }
   ],
   "source": [
    "#對齊產險資料\n",
    "import pandas as pd\n",
    "all_ID = []\n",
    "for i in all_file:\n",
    "    all_ID.append(i[0][0])\n",
    "print(len(all_ID))\n",
    "\n",
    "print(len(pd.unique(all_ID)))"
   ]
  },
  {
   "cell_type": "code",
   "execution_count": 31,
   "metadata": {},
   "outputs": [
    {
     "name": "stdout",
     "output_type": "stream",
     "text": [
      "1\n"
     ]
    }
   ],
   "source": [
    "tmp = '/Users/cfh00892302/Desktop/myWorkspace/NLLP/data/full_data.json'\n",
    "import json\n",
    "result = []\n",
    "with open(tmp, 'r', encoding='utf8') as f:\n",
    "    for i in f:\n",
    "        json_f = json.loads(i)\n",
    "        result.append(json_f)\n",
    "print(len(result))"
   ]
  },
  {
   "cell_type": "code",
   "execution_count": 36,
   "metadata": {},
   "outputs": [
    {
     "data": {
      "text/plain": [
       "'CLEV,106,壢簡,1417,20180629,2'"
      ]
     },
     "execution_count": 36,
     "metadata": {},
     "output_type": "execute_result"
    }
   ],
   "source": [
    "result[0][0]['jid']"
   ]
  },
  {
   "cell_type": "code",
   "execution_count": null,
   "metadata": {},
   "outputs": [],
   "source": [
    "all_file[0][0][0]\n",
    "we_have_too = []\n",
    "counter = 0\n",
    "for index, r in enumerate(result[0]):\n",
    "    query_id = r['jid']\n",
    "    if query_id in all_ID:\n",
    "        we_have_too.append(query_id)\n",
    "    else:\n",
    "        counter += 1\n",
    "        print(\"We don't have\", query_id, \" file, accumulate \", counter, \" files\")\n",
    "        \n",
    "\n"
   ]
  },
  {
   "cell_type": "code",
   "execution_count": 49,
   "metadata": {},
   "outputs": [
    {
     "data": {
      "text/plain": [
       "472"
      ]
     },
     "execution_count": 49,
     "metadata": {},
     "output_type": "execute_result"
    }
   ],
   "source": [
    "# 缺少 472 篇不在我們的資料內\n",
    "counter"
   ]
  },
  {
   "cell_type": "code",
   "execution_count": 58,
   "metadata": {},
   "outputs": [
    {
     "name": "stdout",
     "output_type": "stream",
     "text": [
      "9985\n",
      "9985\n"
     ]
    }
   ],
   "source": [
    "final_data = []\n",
    "print(len(we_have_too))\n",
    "for file in all_file:\n",
    "    if file[0][0] in we_have_too:\n",
    "        final_data.append(file)\n",
    "print(len(final_data))\n"
   ]
  },
  {
   "cell_type": "code",
   "execution_count": 61,
   "metadata": {},
   "outputs": [
    {
     "name": "stdout",
     "output_type": "stream",
     "text": [
      "產險總共篩出： 10456\n",
      "和我們這邊同步後，共有 9985 筆資料相同。\n",
      "缺少 471 筆資料是我們沒有的\n"
     ]
    }
   ],
   "source": [
    "print(\"產險總共篩出：\", len(result[0]))\n",
    "print(\"和我們這邊同步後，共有\", len(final_data), \"筆資料相同。\")\n",
    "\n",
    "print(\"缺少\", counter, \"筆資料是我們沒有的\")"
   ]
  },
  {
   "cell_type": "code",
   "execution_count": null,
   "metadata": {},
   "outputs": [],
   "source": [
    "#讀資料\n",
    "my_final_data = np.load(\"final_data.npy\", allow_pickle=True)\n"
   ]
  },
  {
   "cell_type": "code",
   "execution_count": null,
   "metadata": {},
   "outputs": [],
   "source": [
    "with open(\"./final_data.json\", \"w\", encoding=\"utf-8\") as outfile:\n",
    "    for item in final_data:\n",
    "        print(item)\n",
    "        outline = json.dumps(item, ensure_ascii=False)\n",
    "        outfile.write(outline + \"\\n\")"
   ]
  },
  {
   "cell_type": "code",
   "execution_count": 6,
   "metadata": {},
   "outputs": [],
   "source": [
    "random_size = 30\n",
    "my_final_data = np.load(\"/Users/cfh00892302/Desktop/myWorkspace/NLLP/data_preprocess/final_data.npy\", allow_pickle=True)\n",
    "ind = np.random.choice(range(len(my_final_data)), random_size, replace=False)\n",
    "#path = 'toy_example.txt'\n",
    "#path = \"demo_for_label.txt\"\n",
    "path = \"test_for_jasper.txt\"\n",
    "#path = \"ml_backend_test_data.txt\"\n",
    "\n",
    "with open(path, 'w') as f:\n",
    "    for i in ind:\n",
    "        output = str.replace(my_final_data[i][6][0], \"\\r\\n\", \"\")\n",
    "        f.write(output + \"\\n\")"
   ]
  }
 ],
 "metadata": {
  "kernelspec": {
   "display_name": "Python 3.9.6 ('env': venv)",
   "language": "python",
   "name": "python3"
  },
  "language_info": {
   "codemirror_mode": {
    "name": "ipython",
    "version": 3
   },
   "file_extension": ".py",
   "mimetype": "text/x-python",
   "name": "python",
   "nbconvert_exporter": "python",
   "pygments_lexer": "ipython3",
   "version": "3.9.6"
  },
  "orig_nbformat": 4,
  "vscode": {
   "interpreter": {
    "hash": "5d58828fd0c5f7af717daf8982e0a9ccf3c174b5c7bbe63b6216d1f875908829"
   }
  }
 },
 "nbformat": 4,
 "nbformat_minor": 2
}
