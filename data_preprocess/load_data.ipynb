{
 "cells": [
  {
   "cell_type": "markdown",
   "metadata": {},
   "source": [
    "### Load data/spiritual_money file資料夾的所有zip檔，需先下載spiritual_money這個folder\n",
    "locate your data folder (download from github: https://github.com/kiangkiangkiang/NLLP/tree/main/data)"
   ]
  },
  {
   "cell_type": "code",
   "execution_count": 1,
   "metadata": {},
   "outputs": [],
   "source": [
    "import numpy as np\n",
    "myZipFile = '/Users/cfh00892302/Desktop/myWorkspace/NLLP/data/spiritual_money file/'"
   ]
  },
  {
   "cell_type": "markdown",
   "metadata": {},
   "source": [
    "#### Load特定年份的資料\n",
    "Load Zip File using np.load"
   ]
  },
  {
   "cell_type": "code",
   "execution_count": 2,
   "metadata": {},
   "outputs": [],
   "source": [
    "specific_zipFile = \"spiritual_2022.zip\"\n",
    "all_spiritual_file = np.load(myZipFile + specific_zipFile, allow_pickle=True)"
   ]
  },
  {
   "cell_type": "markdown",
   "metadata": {},
   "source": [
    "所有zip裡面的檔案 （後續可以針對此名稱取特定json）"
   ]
  },
  {
   "cell_type": "code",
   "execution_count": 50,
   "metadata": {},
   "outputs": [
    {
     "data": {
      "text/plain": [
       "['spiritual_202201',\n",
       " 'spiritual_202202',\n",
       " 'spiritual_202203',\n",
       " 'spiritual_202204',\n",
       " 'spiritual_202205',\n",
       " 'spiritual_202206',\n",
       " 'spiritual_202207',\n",
       " 'spiritual_202208',\n",
       " 'spiritual_202209',\n",
       " 'spiritual_202210',\n",
       " 'spiritual_202211']"
      ]
     },
     "execution_count": 50,
     "metadata": {},
     "output_type": "execute_result"
    }
   ],
   "source": [
    "list(all_spiritual_file)"
   ]
  },
  {
   "cell_type": "markdown",
   "metadata": {},
   "source": [
    "取某月分的資料"
   ]
  },
  {
   "cell_type": "code",
   "execution_count": null,
   "metadata": {},
   "outputs": [],
   "source": [
    "all_spiritual_file[\"spiritual_202209\"][:3]\n",
    "#or all_spiritual_file[list(all_spiritual_file)[0]][:3]"
   ]
  },
  {
   "cell_type": "markdown",
   "metadata": {},
   "source": [
    "#### Load所有在spiritual_money資料夾下的zip檔\n",
    "load all file"
   ]
  },
  {
   "cell_type": "code",
   "execution_count": 2,
   "metadata": {},
   "outputs": [],
   "source": [
    "import os\n",
    "import re\n",
    "\n",
    "\n",
    "def simple_preprocess(fileList):\n",
    "    pattern = re.compile(\"\\r\\n     |\\r\\n   |\\u3000| \")\n",
    "    for i in range(len(fileList)):\n",
    "        fileList[i][6][0] = re.sub(pattern, \"\", fileList[i][6][0])\n",
    "    return fileList\n",
    "\n",
    "\n",
    "def get_all_spiritual_file(\n",
    "    all_zip_folder=myZipFile,\n",
    "    preprocessing=False\n",
    "    ):\n",
    "\n",
    "    all_spiritual_file = np.array([]).reshape(0, 8, 1)\n",
    "    for file in os.listdir(all_zip_folder):\n",
    "        if \".zip\" in file:\n",
    "            spiritual_years_file = np.load(myZipFile + file, allow_pickle=True)\n",
    "            for months in spiritual_years_file:\n",
    "                spiritual_months_file = spiritual_years_file[months]#np.array in this month\n",
    "                if preprocessing:\n",
    "                    spiritual_months_file = simple_preprocess(spiritual_months_file)\n",
    "                all_spiritual_file = np.concatenate((all_spiritual_file, \n",
    "                                                     spiritual_months_file), \n",
    "                                                     axis=0)\n",
    "            print(\"Collect \", all_spiritual_file.shape[0])\n",
    "    return all_spiritual_file\n",
    "    \n"
   ]
  },
  {
   "cell_type": "code",
   "execution_count": 3,
   "metadata": {},
   "outputs": [
    {
     "name": "stdout",
     "output_type": "stream",
     "text": [
      "Collect  2630\n",
      "Collect  5475\n",
      "Collect  7937\n",
      "Collect  10668\n",
      "Collect  13336\n",
      "Collect  15898\n",
      "Collect  18595\n",
      "(18595, 8, 1)\n"
     ]
    }
   ],
   "source": [
    "#all file in all_file\n",
    "all_file = get_all_spiritual_file(all_zip_folder=myZipFile, preprocessing=True)\n",
    "print(all_file.shape)"
   ]
  },
  {
   "cell_type": "code",
   "execution_count": 9,
   "metadata": {},
   "outputs": [
    {
     "data": {
      "text/plain": [
       "'臺灣雲林地方法院民事判決109年度重訴字第86號原告顏百聰顏百蔚顏柏全被告林文宗上列被告因過失致死案件，經原告提起損害賠償之刑事附帶民事訴訟（109年度交附民字第116號），經本院刑事庭裁定移送前來，本院於民國109年12月28日言詞辯論終結，判決如下：主文被告應分別給付原告顏百聰、顏百蔚、顏柏全新臺幣貳拾貳萬壹仟陸佰陸拾柒元、貳拾貳萬壹仟陸佰陸拾陸元、貳拾貳萬壹仟陸佰陸拾柒元，及均自民國一０九年十二月十二日起至清償日止，按週年利率百分之五計算之利息。原告其餘之訴駁回。訴訟費用由被告負擔四分之一，餘由原告負擔。本判決第一項於原告顏百聰、顏百蔚、顏柏全各以新臺幣捌萬元為被告供擔保後，得假執行。但被告如分別以新臺幣貳拾貳萬壹仟陸佰陸拾柒元、貳拾貳萬壹仟陸佰陸拾陸元、貳拾貳萬壹仟陸佰陸拾柒元為原告顏百聰、顏百蔚、顏柏全預供擔保，得免為假執行。原告其餘假執行之聲請駁回。事實及理由一、本件原告顏百蔚未於言詞辯論期日到場，核無民事訴訟法第386條各款所列情形，爰依被告聲請，由其一造辯論而為判決。二、按訴狀送達後，原告不得將原訴變更或追加他訴。但有擴張或減縮應受判決事項之聲明者，不在此限，民事訴訟法第255條第1項第3款定有明文。原告於起訴狀請求判決被告應賠償原告顏百聰、顏百蔚、顏柏全各新臺幣（下同）240萬元（不含強制汽車責任保險金），嗣於民國109年12月2日本院審理中，原告顏百聰、顏百蔚、顏柏全再改請求被告應分別賠償888,944元、888,943元、888,943元，乃屬減縮應受判決事項之聲明，參諸上開規定，應予准許。三、原告主張：被告明知其小型車普通駕駛執照業經註銷，竟仍於108年12月24日晚間10時47分許，無照駕駛車牌號碼000-0000號自用小客車，沿雲林縣虎尾鎮北平路由南往北方向行駛，行經雲林縣虎尾鎮北平路虎平西8電桿前，竟疏未注意車前狀況及兩車並行之間隔，適有行人即原告之母廖錦鸞牽引自行車，沿雲林縣虎尾鎮北平路由南往北方向行經上開地點，被告因而閃避不及自後追撞原告之母廖錦鸞，致其受有顱內出血等傷害，雖經送醫救治，仍於翌日凌晨0時21分不治死亡，爰依侵權行為法律關係提起本件訴訟，請求被告賠償原告顏百聰、顏百蔚、顏柏全支出廖錦鸞生前因治療本件車禍所致傷勢之醫療費用1,830元（原告各610元）、喪葬費用265,000元（原告顏百聰88,334元、顏百蔚88,333元、顏柏全88,333元）、精神慰撫金各80萬元等語，並聲明：㈠被告應分別給付原告顏百聰、顏百蔚、顏柏全888,944元、888,943元、888,943元，及均自刑事附帶民事訴訟起訴狀繕本送達翌日起至清償日止，按週年利率5%計算之利息。㈡願供擔保，請宣告准予假執行。四、被告則以：被告同意賠償原告3人支出廖錦鸞生前因治療本件車禍所致傷勢之醫療費用1,830元、喪葬費用265,000元，惟原告所請求賠償之精神慰撫金金額過鉅，被告請求酌減等語，資為抗辯。並聲明：㈠原告之訴及其假執行之聲請均駁回。㈡如受不利判決，願供擔保免假執行。五、兩造不爭執之事實：㈠被告明知其小型車普通駕駛執照業經註銷，竟仍於108年12月24日晚間10時47分許，無照駕駛車牌號碼000-0000號自用小客車，沿雲林縣虎尾鎮北平路由南往北方向行駛，行經雲林縣虎尾鎮北平路虎平西8電桿前，本應注意汽車行駛時，駕駛人應注意車前狀況及兩車並行之間隔，並隨時採取必要之安全措施，而依當時天候晴、夜間有照明、柏油路面乾燥、無缺陷、無障礙物等情，又無不能注意之情事，竟疏於注意及此，適有行人即原告之母廖錦鸞牽引自行車，沿雲林縣虎尾鎮北平路由南往北方向行經上開地點，被告因而閃避不及自後追撞原告之母廖錦鸞，致其受有顱內出血等傷害，雖經送醫救治，仍於翌日凌晨0時21分不治死亡。被告因上開無駕駛執照駕車過失致人於死之犯行，經本院109年度交訴字第35號判決判處有期徒刑6月，如易科罰金，以1千元折算1日，因檢察官不服提起上訴，現由臺灣高等法院臺南分院審理中。㈡被告同意賠償原告為其母廖錦鸞所支出醫療費用1,830元（原告各610元）、喪葬費用265,000元（原告顏百聰88,334元、顏百蔚88,333元、顏柏全88,333元）。㈢兩造呈報職業、教育、收入等身分經濟狀況，及卷附電子閘門財產所得調件明細表。㈣原告顏百聰、顏百蔚、顏柏全業已分別領取強制汽車責任保險金667,277元、667,277元、667,276元。㈤本院109年度交訴字第35號全部刑事卷宗。六、本件兩造所爭執之處，應在於：原告請求被告賠償之精神慰撫金是否過鉅？七、按因故意或過失不法侵害他人之權利者，應負損害賠償責任；不法侵害他人致死者，對於支出醫療及增加生活上需要之費用或殯葬費之人，亦應負損害賠償責任；不法侵害他人致死者，被害人之父、母、子、女及配偶，雖非財產上之損害，亦得請求賠償相當之金額，民法第184條第1項前段、第192條第1項、第194條分別定有明文。經查，被告因上開過失致原告之母廖錦鸞死亡之情，業如前述，乃構成侵權行為，是原告主張被告應就其等所受之損害負賠償責任，自屬有據。茲就原告請求被告賠償之項目、數額，是否應予准許，分別審核如下：㈠醫療費用、喪葬費用部分：原告顏百聰、顏百蔚、顏柏全主張其等支出廖錦鸞生前因本件車禍所致傷勢之醫療費用1,830元（原告各610元）、喪葬費用265,000元（原告顏百聰88,334元、顏百蔚88,333元、顏柏全88,333元），是原告顏百聰、顏百蔚、顏柏全受有上開費用損害總計分別為88,944元、88,943元、88,943元等語，業據其提出免用統一發票收據、收據、雲林縣虎尾鎮公所使用規費收入繳款書、雲德寶塔使用申請書等為證，復為被告所不爭執，自堪信為真實，故原告顏百聰、顏百蔚、顏柏全分別請求被告賠償此部分之損害88,944元、88,943元、88,943元，為有理由，應予准許。㈡精神慰撫金部分：按關於慰撫金之多寡，應以被害人精神上所受之苦痛為準據，亦應審酌被害人之地位、家況及加害人之地位，俾資為審判之依據，故應就兩造之身分、職業、教育程度、財產及經濟狀況，用以判斷非財產上損害之慰撫金數額（參見最高法院86年度台上字第511號判決意旨）。本院審酌原告顏百聰為高職畢業，現為勞工，每月收入約3萬餘元，名下4筆不動產、1輛車輛、3筆投資，於108年度申報受有股利、營利所得約5萬餘元；原告顏百蔚為高職畢業，現為勞工，每月收入約1至2萬餘元，名下3筆不動產、2輛車輛，於108年度並未申報任何所得；原告顏柏全為研究所畢業，為退休老師，名下10筆不動產、1輛車輛，於108年度申報受有薪資所得約16萬餘元（見原告顏百聰、顏百蔚、顏柏全之稅務電子閘門財產所得調件明細表），其等3人為廖錦鸞之子，本期於廖錦鸞晚年反哺奉養，承歡膝下，怎料遽然突遭此橫禍，而受喪母之痛，頓失依附，承受子欲養而親不在之悲，精神煎熬亦非比尋常。被告為國小畢業，名下1筆不動產，於108年度未申報受有任何所得（見被告之稅務電子閘門財產所得調件明細表）。被告明知其小型車普通駕駛執照業經註銷，而不得駕駛汽車，卻仍逕自駕車，復因疏未注意車前狀況及兩車並行之間隔，肇致本件車禍之發生，廖錦鸞因而死亡，原告因被告之過失而天倫破碎，永難追尋。本院審酌前述造成本件車禍之原因、兩造之年紀、身分、地位、經濟能力、原告個別哀傷苦痛情節，及其等生存期間所受精神上痛苦程度等一切情狀，認原告顏百聰、顏百蔚、顏柏全所受精神慰撫金之損害以各請求80萬元為相當。八、末按保險人依本法規定所為之保險給付，視為被保險人損害賠償金額之一部分；被保險人受賠償請求時，得扣除之；本法所稱被保險人，指經保險人承保之要保人及經該要保人同意使用或管理被保險汽車之人；本法所稱加害人，指因使用或管理汽車造成汽車交通事故之人；強制汽車責任保險法第32條、第9條第2項、第10條第1項分別定有明文。本件被告為前開交通事故之肇事者，及依法投保強制汽車責任保險之人，且原告顏百聰、顏百蔚、顏柏全已分別受領強制汽車責任保險金667,277元、667,277元、667,276元等事實，已如前述，並為兩造所不爭執，依前開規定，原告顏百聰、顏百蔚、顏柏全所受領之保險金額自應視為被告損害賠償金額之一部，是被告應分別賠償原告顏百聰、顏百蔚、顏柏全之金額分別為221,667元、221,666元、221,667元（計算式：①原告顏百聰：88,944＋800,000－667,277＝221,667。②原告顏百蔚：88,943＋800,000－667,277＝221,666。③原告顏柏全：88,943＋800,000－667,276＝221,667。）。九、從而，原告顏百聰、顏百蔚、顏柏全依據侵權行為之法律關係，分別請求被告賠償221,667元、221,666元、221,667元，及均自刑事附帶民事訴訟起訴狀繕本送達翌日即109年12月12日起至清償日止，按週年利率5%計算之利息，為有理由，均應予准許，逾此部分之請求，為無理由，均應予駁回。另兩造分別陳明願供擔保請為宣告假執行或免為假執行，經核原告勝訴部分並無不合，爰分別酌定相當擔保金額予以准許。至原告敗訴部分，其假執行之聲請失所附麗，應併予駁回。十、本件判決之基礎已臻明確，兩造其餘之攻擊防禦方法、所提證據，均經斟酌，核與判決之結果不生影響，爰不一一論述，附此敘明。十一、訴訟費用負擔之依據：民事訴訟法第79條，第85條第1項。中華民國110年1月15日民事第二庭法官陳秋如以上正本係照原本作成。如對本判決上訴，須於判決送達後20日內向本院提出上訴狀（需附繕本）。如委任律師提起上訴者，應一併繳納上訴審裁判費。中華民國110年1月15日書記官陳姵君'"
      ]
     },
     "execution_count": 9,
     "metadata": {},
     "output_type": "execute_result"
    }
   ],
   "source": [
    "#show\n",
    "#all_file[135][6][0].split(\"\\r\\n\")\n",
    "#all_file[1000][6][0].split(\"\\r\\n\")\n",
    "all_file[1000][6][0].split(\"\\r\\n\")\n",
    "all_file[7787][6][0].replace(\"\\r\\n\", \"\")\n",
    "#len(str.replace(all_file[1000][6][0], \"\\r\\n\", \"\"))\n",
    "\n",
    "#正常case\n",
    "#all_file[9822][6][0].split(\"\\r\\n\")\n",
    "#all_file[123][6][0].split(\"\\r\\n\")\n",
    "#all_file[1003][6][0].split(\"\\r\\n\")\n",
    "\n",
    "#精神慰撫金在蠻特別的位置:\n",
    "#all_file[5829][6][0].split(\"\\r\\n\")\n",
    "#all_file[82][6][0].split(\"\\r\\n\")\n",
    "\n",
    "\n",
    "#### 難的Case\n",
    "#all_file[1000][6][0].split(\"\\r\\n\")#多人\n",
    "#all_file[1001][6][0].split(\"\\r\\n\")#段落不明，沒有法院之判斷之類的段落\n",
    "\n",
    "#到底賠了多少看不懂:\n",
    "#all_file[6543][6][0].split(\"\\r\\n\")\n",
    "#all_file[10211][6][0].split(\"\\r\\n\")\n",
    "#all_file[1002][6][0].split(\"\\r\\n\")\n",
    "####\n",
    "\n",
    "\n",
    "#其他\n",
    "#all_file[193][6][0].split(\"\\r\\n\")\n",
    "#all_file[2700][6][0].split(\"\\r\\n\")"
   ]
  },
  {
   "cell_type": "code",
   "execution_count": 7,
   "metadata": {},
   "outputs": [],
   "source": [
    "#export txt file for toy example \n",
    "random_size = 30\n",
    "ind = np.random.choice(range(len(all_file)), random_size, replace=False)\n",
    "path = 'toy_example.txt'\n",
    "#path = \"demo_for_label.txt\"\n",
    "#path = \"label_example.txt\"\n",
    "#path = \"ml_backend_test_data.txt\"\n",
    "with open(path, 'w') as f:\n",
    "    for i in ind:\n",
    "        output = str.replace(all_file[i][6][0], \"\\r\\n\", \"\")\n",
    "        f.write(output + \"\\n\")\n",
    "\n"
   ]
  },
  {
   "cell_type": "code",
   "execution_count": 62,
   "metadata": {},
   "outputs": [
    {
     "name": "stdout",
     "output_type": "stream",
     "text": [
      "['⒈', '⒉', '⒊', '⒋', '⒌', '⒍', '⒎', '⒏', '⒐', '⒑', '⒒', '⒓', '⒔', '⒕', '⒖', '⒗', '⒘', '⒙', '⒚', '⒛']\n",
      "['㈠', '㈡', '㈢', '㈣', '㈤', '㈥', '㈦', '㈧', '㈨', '㈩']\n",
      "[22777, 36019, 21441, 32902, 20237, 38520, 26578, 25420, 29590, 25342]\n"
     ]
    },
    {
     "data": {
      "text/plain": [
       "20108"
      ]
     },
     "execution_count": 62,
     "metadata": {},
     "output_type": "execute_result"
    }
   ],
   "source": [
    "#[\"三、得心證之理由：\"]\n",
    "#特殊字元\n",
    "print([chr(i) for i in range(9352, 9372)]) #只到20\n",
    "print([chr(i) for i in range(12832, 12842)]) #只到10\n",
    "print([ord(i) for i in ['壹' ,'貳', '叁', '肆', '伍', '陸', '柒', '捌', '玖', '拾']])"
   ]
  },
  {
   "cell_type": "markdown",
   "metadata": {},
   "source": [
    "Note:\n",
    "\n",
    "- 會有人名是：黃○𡍼𡍼（第1000篇）\n",
    "- 還有髒資料[第1001篇：\\uf6af, \\uf6ae, \\uf6b0, \\uf6ad, \\uf6ac, \\uf6ab, \\uf6aa, \\uf6a9]\n",
    "- 可能可以用的關鍵字：“為適當”，“逾此部分”, \"方屬適當\"，"
   ]
  },
  {
   "cell_type": "code",
   "execution_count": 25,
   "metadata": {},
   "outputs": [],
   "source": [
    "path = 'test.txt'\n",
    "with open(path, 'w') as f:\n",
    "    pass"
   ]
  }
 ],
 "metadata": {
  "kernelspec": {
   "display_name": "Python 3.9.6 ('env': venv)",
   "language": "python",
   "name": "python3"
  },
  "language_info": {
   "codemirror_mode": {
    "name": "ipython",
    "version": 3
   },
   "file_extension": ".py",
   "mimetype": "text/x-python",
   "name": "python",
   "nbconvert_exporter": "python",
   "pygments_lexer": "ipython3",
   "version": "3.9.6"
  },
  "orig_nbformat": 4,
  "vscode": {
   "interpreter": {
    "hash": "5d58828fd0c5f7af717daf8982e0a9ccf3c174b5c7bbe63b6216d1f875908829"
   }
  }
 },
 "nbformat": 4,
 "nbformat_minor": 2
}
