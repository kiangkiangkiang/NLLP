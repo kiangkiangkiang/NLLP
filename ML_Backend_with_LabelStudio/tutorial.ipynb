{
 "cells": [
  {
   "cell_type": "markdown",
   "metadata": {},
   "source": [
    "## Toy Example for ML Backend with Zero-Shot UIE model (Relation Extraction/Information Extraction)\n",
    "\n",
    "### 想法：\n",
    "\n",
    "建立一個ML模型，使模型的預測結果能夠在Label Studio上呈現，也就是讓模型自動標記，人類的工作就是後續校正模型的標記結果。因此在此階段**不會使用到互動學習的概念**，只會單純將模型的預測標記上去。\n",
    "\n",
    "因此首先需要知道Label Studio的標記格式，接著將模型的Output調整成Label Studio所需的格式，最後透過Label Studio內建處理好的環境，就可以將調整完Label Studio所需的格式的Output貼回Label Studio上。\n",
    "\n",
    "所以以下會先使用Label Studio人工標記一篇文本，接著透過標記結果判斷Label Studio的標記格式，之後建立ML Backend，把文本丟給Backend中的模型，將模型output對齊Label Studio的標記格式，最後Output結果就結束了。\n",
    "\n",
    "### 介紹流程：\n",
    "1. 建立Label Studio環境, 標記文本。\n",
    "2. 建立ML Backend。\n",
    "3. 使ML Backend Output對齊Label Studio格式。\n",
    "4. 測試結果\n"
   ]
  },
  {
   "cell_type": "markdown",
   "metadata": {},
   "source": [
    "## 1. 建立Label Studio環境。\n",
    "\n",
    "參考[Label Studio官方說明](https://labelstud.io/guide/get_started.html#Quick-start)即可。\n",
    "\n",
    "![](https://i.imgur.com/KYRPZ2y.png)\n",
    "\n",
    "接著將[data](https://github.com/kiangkiangkiang/NLLP/blob/main/ML_Backend_with_LabelStudio/example_data/toy_example.txt)Import至Label Studio"
   ]
  },
  {
   "cell_type": "code",
   "execution_count": null,
   "metadata": {},
   "outputs": [],
   "source": []
  }
 ],
 "metadata": {
  "kernelspec": {
   "display_name": "Python 3.8.10 ('venv_pytorch': venv)",
   "language": "python",
   "name": "python3"
  },
  "language_info": {
   "name": "python",
   "version": "3.8.10"
  },
  "orig_nbformat": 4,
  "vscode": {
   "interpreter": {
    "hash": "cf46acb013efd0588f6afec6d5cfc3a8d59196ff594941befc7df90c31a68b6c"
   }
  }
 },
 "nbformat": 4,
 "nbformat_minor": 2
}
