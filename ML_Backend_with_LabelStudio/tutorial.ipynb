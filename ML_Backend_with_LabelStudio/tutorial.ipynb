{
 "cells": [
  {
   "cell_type": "markdown",
   "metadata": {},
   "source": [
    "## Toy Example for ML Backend with Zero-Shot UIE model (Relation Extraction/Information Extraction)\n",
    "\n",
    "### 想法：\n",
    "\n",
    "建立一個ML模型，使模型的預測結果能夠在Label Studio上呈現，也就是讓模型自動標記，人類的工作就是後續校正模型的標記結果。因此在此階段**不會使用到互動學習的概念**，只會單純將模型的預測標記上去。\n",
    "\n",
    "因此首先需要知道Label Studio的標記格式，接著將模型的Output調整成Label Studio所需的格式，最後透過Label Studio內建處理好的環境，就可以將調整完Label Studio所需的格式的Output貼回Label Studio上。\n",
    "\n",
    "所以以下會先使用Label Studio人工標記一篇文本，接著透過標記結果判斷Label Studio的標記格式，之後建立ML Backend，把文本丟給Backend中的模型，將模型output對齊Label Studio的標記格式，最後Output結果就結束了。\n",
    "\n",
    "### 範例任務描述\n",
    "\n",
    "在此範例中，我們希望讓「RE」模型在一篇判決書中自己標註「精神慰撫金」，並能透過「Relation」正確對應到提出金額的原告，因此在任務中我們需要做以下標記：\n",
    "\n",
    "1. 對「原告」標記成「原告」的Label。\n",
    "2. 對「法院判決的精神慰撫金」標記成「法院得心證判斷之適當裁定精神慰撫金」。\n",
    "3. 對「原告提出的精神慰撫金」標記成「非財產上之損害的求償精神慰撫金」。\n",
    "4. 對「非2.且非3.的精神慰撫金」標記成「其他精神慰撫金」。\n",
    "5. 將所有2.和3.的精神慰撫金，透過Relation，連到對應提出金額的原告，類別等同2.或3.的類別。\n",
    "（詳細在「1. 建立Label Studio環境」將有範例）\n",
    "\n",
    "### 介紹流程：\n",
    "\n",
    "1. 建立Label Studio環境, 標記文本（此步驟僅為了示範如何觀察Label Studio標記格式，若以熟悉Label Studio可跳過）。\n",
    "2. 建立ML Backend。\n",
    "3. 測試結果。\n"
   ]
  },
  {
   "cell_type": "markdown",
   "metadata": {},
   "source": [
    "## 1. 建立Label Studio環境\n",
    "\n",
    "### 1.1 Create Label Studio Environment\n",
    "\n",
    "參考[Label Studio官方說明](https://labelstud.io/guide/get_started.html#Quick-start)即可。\n",
    "\n",
    "![](https://i.imgur.com/KYRPZ2y.png)\n",
    "\n",
    "\n",
    "### 1.2 Upload Data\n",
    "\n",
    "接著將 [data](https://github.com/kiangkiangkiang/NLLP/blob/main/ML_Backend_with_LabelStudio/example_data/toy_example.txt) Import至Label Studio\n",
    "\n",
    "### 1.3 Label Schema Setting\n",
    "\n",
    "點右上角Setting -> Labeling Interface -> Browse Templates -> Natural Language Processing -> Relation Extraction -> Code\n",
    "\n",
    "將以下程式貼到Code內 -> Save：\n",
    "``` javascript\n",
    "<View>\n",
    "    <Relations>\n",
    "        <Relation value=\"非財產上之損害的求償精神慰撫金\"/>\n",
    "        <Relation value=\"法院得心證判斷之適當裁定精神慰撫金\"/>\n",
    "        <Relation value=\"其他精神慰撫金\"/>\n",
    "    </Relations>\n",
    "    <Labels name=\"label\" toName=\"text\">\n",
    "        <Label value=\"原告\" background=\"#44ff00\"/>\n",
    "        <Label value=\"非財產上之損害的求償精神慰撫金\" background=\"#0062ff\"/>\n",
    "        <Label value=\"法院得心證判斷之適當裁定精神慰撫金\" background=\"#9e06e5\"/>\n",
    "        <Label value=\"其他精神慰撫金\" background=\"#ff0000\"/>\n",
    "    </Labels>\n",
    "\n",
    "    <Text name=\"text\" value=\"$text\"/>\n",
    "</View>abels>\n",
    "```\n",
    "\n",
    "### 1.4 人工標記以觀察Label Studio格式\n",
    "\n",
    "Label Studio可接受的Import格式請參考[這裡](https://labelstud.io/guide/tasks.html#Basic-Label-Studio-JSON-format)。\n",
    "\n",
    "最土法煉鋼的方式，就是直接手動標完一篇，看看Label Studio怎麼標文本，在向他對齊就好。\n",
    "\n",
    "因此根據「範例任務描述」所提到的標記方式，將第一篇標完如下：\n",
    "\n",
    "![](https://i.imgur.com/uJjIXbo.png)\n",
    "\n",
    "點選Submit後，透過「Show task source」便可以看到Label Studio標記完的格式：\n",
    "\n",
    "![](https://i.imgur.com/7h0CYT0.png)\n",
    "\n",
    "在「Show task source」的json檔內，result後的格式便是後續ML Backend模型output要對齊的格式。"
   ]
  },
  {
   "cell_type": "markdown",
   "metadata": {},
   "source": [
    "## 2. 建立ML Backend"
   ]
  },
  {
   "cell_type": "code",
   "execution_count": null,
   "metadata": {},
   "outputs": [],
   "source": [
    "!pip install label_studio_ml"
   ]
  },
  {
   "cell_type": "markdown",
   "metadata": {},
   "source": [
    "### 2.1 Init 一個空的Backend Template"
   ]
  },
  {
   "cell_type": "code",
   "execution_count": 6,
   "metadata": {},
   "outputs": [
    {
     "name": "stdout",
     "output_type": "stream",
     "text": [
      "\u001b[32mCongratulations! ML Backend has been successfully initialized in ./toy_example_for_ml_backend\n",
      "\u001b[39mNow start it by using:\n",
      "\u001b[36mlabel-studio-ml start ./toy_example_for_ml_backend\n",
      "\u001b[0m"
     ]
    }
   ],
   "source": [
    "!label-studio-ml init toy_example_for_ml_backend --script simple_ml_backend_template.py\n",
    "#toy_example_for_ml_backend可改成自己要的名字"
   ]
  },
  {
   "cell_type": "markdown",
   "metadata": {},
   "source": [
    "### 2.2 寫入ML Backend核心演算法\n",
    "\n",
    "在simple_ml_backend_template.py中，預設兩個函數：\n",
    "1. predict(): 模型核心演算法所在位置，當打開Label Studio時，模型會自動把所有「未預測」的資料，丟給predict，餵給參數tasks，因此可以把tasks內的資料取出丟給模型，再將最後結果對齊好return回去，此時如果return格式沒問題，Label Studio便會自動依照return結果做標記。\n",
    "2. fit(): **本篇不會用到**，標記好資料後，點選Submit或Update，則模型自動會把標記好的結果丟給fit，此時若要動態學習，便可以在這邊實作fine-tune的演算法，但個人覺得一篇learn一次或是自己寫算法讓模型多篇learn一次，都太花時間，因為learn也需要時間，因此實作上有點卡。\n",
    "   \n",
    "詳細可以參考[這裡](https://labelstud.io/tutorials/dummy_model.html)。\n",
    "\n",
    "在此我們將演算法寫進./toy_example_for_ml_backend/simple_ml_backend_template.py內"
   ]
  },
  {
   "cell_type": "code",
   "execution_count": null,
   "metadata": {},
   "outputs": [],
   "source": [
    "#將此block複製到./toy_example_for_ml_backend/simple_ml_backend_template.py內即可\n",
    "from label_studio_ml.model import LabelStudioMLBase\n",
    "from paddlenlp import Taskflow\n",
    "import numpy as np\n",
    "\n",
    "def postprocessing(predict_result, all_relations):\n",
    "    predict_result = sorted(predict_result, key=lambda x: x['value']['start'])\n",
    "\n",
    "    #Delete Overlap Entity\n",
    "    index = 0\n",
    "    while index < len(predict_result) - 1:\n",
    "        if predict_result[index]['value']['start'] == predict_result[index + 1]['value']['start'] :\n",
    "            if predict_result[index]['value']['score'] > predict_result[index + 1]['value']['score']:\n",
    "                predict_result.pop(index + 1)\n",
    "            else:\n",
    "                predict_result.pop(index)\n",
    "        else:\n",
    "            index += 1\n",
    "\n",
    "    #Delete Repeat Person\n",
    "    unique_name_map, result_index = [], []\n",
    "    for i, item in enumerate(predict_result):\n",
    "        if item['value']['labels'][0] == '原告':\n",
    "            if item['value']['text'] not in unique_name_map:\n",
    "                unique_name_map.append(item['value']['text'])\n",
    "                result_index.append(i)\n",
    "        else:\n",
    "            result_index.append(i)\n",
    "    predict_result = list(np.array(predict_result)[result_index])\n",
    "\n",
    "    #Add Relation\n",
    "    start_id_mapping = {predict_result[index]['value']['start']: predict_result[index]['id'] for index in range(len(predict_result))}\n",
    "    for relation in all_relations:\n",
    "        people_start = relation['start']\n",
    "        for relation_type in relation['relations']:\n",
    "            money_start = relation['relations'][relation_type][0]['start']\n",
    "            if start_id_mapping.get(people_start) and start_id_mapping.get(money_start):\n",
    "                predict_result.append({\n",
    "                    'from_id': start_id_mapping[people_start],\n",
    "                    'to_id': start_id_mapping[money_start],\n",
    "                    \"type\": \"relation\",\n",
    "                    \"direction\": \"right\",\n",
    "                    \"labels\": [\n",
    "                        relation_type\n",
    "                    ]\n",
    "                })\n",
    "    return predict_result\n",
    "\n",
    "class SimpleMLBackend(LabelStudioMLBase):\n",
    "    #載入模型\n",
    "    def __init__(self, **kwargs) -> None:\n",
    "        super(SimpleMLBackend, self).__init__(**kwargs)\n",
    "        my_toy_schema = ['非財產上之損害的求償精神慰撫金', '法院得心證判斷之適當裁定精神慰撫金',\n",
    "                        {'原告': '非財產上之損害的求償精神慰撫金',\n",
    "                         '原告': '法院得心證判斷之適當裁定精神慰撫金'}]\n",
    "        self.model = Taskflow(\"information_extraction\", schema=my_toy_schema)\n",
    "\n",
    "        #RE任務需用ID連接，因此每個Entitu都定義ID\n",
    "        self.entity_id = 0\n",
    "    \n",
    "\n",
    "    #Model Inference\n",
    "    def predict(self, tasks, **kwargs):\n",
    "        print(\"Start Label...\")\n",
    "        predictions = []\n",
    "        for task in tasks:\n",
    "            #task 格式同「Show task source」\n",
    "            uie_output = self.model(task['data']['text'])[0]\n",
    "            result, relations = [], []\n",
    "            for key in uie_output:\n",
    "                for item in uie_output[key]:\n",
    "                    #result對齊Label Studio標好的格式                    \n",
    "                    result.append({\n",
    "                        'value': {\n",
    "                            'start': item['start'],\n",
    "                            'end': item['end'],\n",
    "                            'score': item['probability'],\n",
    "                            'text': item['text'],\n",
    "                            'labels': [key]\n",
    "                        },\n",
    "                        'id': str(self.entity_id),\n",
    "                        'from_name': 'label', \n",
    "                        'to_name': 'text',\n",
    "                        'type': 'labels'\n",
    "                    })\n",
    "                    self.entity_id += 1\n",
    "\n",
    "                    if item.get('relations') is not None:\n",
    "                        relations.append(item)\n",
    "\n",
    "            result = postprocessing(predict_result=result, all_relations=relations)\n",
    "            predictions.append({\n",
    "                'result': result,\n",
    "                'model_version': 'my_toy_example_using_uie'\n",
    "            })\n",
    "\n",
    "        print(\"End Label...\")\n",
    "        return predictions\n",
    "\n",
    "\n",
    "    #NOT IMPLEMENT FOR THIS CASE\n",
    "    def fit(self, annotation, workdir=None, **kwargs):\n",
    "        return"
   ]
  },
  {
   "cell_type": "markdown",
   "metadata": {},
   "source": [
    "## 3. 測試結果"
   ]
  },
  {
   "cell_type": "code",
   "execution_count": null,
   "metadata": {},
   "outputs": [],
   "source": [
    "!label-studio-ml start toy_example_for_ml_backend"
   ]
  },
  {
   "cell_type": "markdown",
   "metadata": {},
   "source": [
    "接著：\n",
    "1. 開啟Label Studio -> Settings -> Machine Learning -> Add Model\n",
    "2. 勾選Retrieve predictions when loading a task automatically\n",
    "3. 把剛剛在terminal start的backend的IP貼上去\n",
    "4. 勾選Use for interactive preannotations -> Validate and Save\n",
    "\n",
    "成功如下：\n",
    "![](https://i.imgur.com/zVv7bsO.png)\n",
    "\n",
    "最後回到Label Studio，點選文章即開始標註（可透過Start Backend的Terminal觀察）\n",
    "\n",
    "Note: 此範例是Zero-Shot的結果，若Fine-tune表現會好很多，詳細請參考PaddleNLP UIE。"
   ]
  }
 ],
 "metadata": {
  "kernelspec": {
   "display_name": "Python 3.8.10 ('venv_pytorch': venv)",
   "language": "python",
   "name": "python3"
  },
  "language_info": {
   "codemirror_mode": {
    "name": "ipython",
    "version": 3
   },
   "file_extension": ".py",
   "mimetype": "text/x-python",
   "name": "python",
   "nbconvert_exporter": "python",
   "pygments_lexer": "ipython3",
   "version": "3.8.10"
  },
  "orig_nbformat": 4,
  "vscode": {
   "interpreter": {
    "hash": "cf46acb013efd0588f6afec6d5cfc3a8d59196ff594941befc7df90c31a68b6c"
   }
  }
 },
 "nbformat": 4,
 "nbformat_minor": 2
}
